{
 "cells": [
  {
   "cell_type": "markdown",
   "source": [
    "## 搭建卷积神经网络"
   ],
   "metadata": {
    "collapsed": false
   }
  },
  {
   "cell_type": "code",
   "execution_count": 1,
   "outputs": [],
   "source": [
    "import pickle\n",
    "import os\n",
    "import numpy as np\n",
    "CIFAR_DIR = \"../data/cifar-10-batches-py\""
   ],
   "metadata": {
    "collapsed": false,
    "pycharm": {
     "name": "#%%\n",
     "is_executing": false
    }
   }
  },
  {
   "cell_type": "code",
   "execution_count": 2,
   "outputs": [
    {
     "name": "stdout",
     "text": [
      "Batches.Meta\nData_Batch_1\nData_Batch_2\nData_Batch_3\nData_Batch_4\nData_Batch_5\nReadme.Html\nTest_Batch\n../data/cifar-10-batches-py\\Data_Batch_1\n"
     ],
     "output_type": "stream"
    }
   ],
   "source": [
    "for file in os.listdir(CIFAR_DIR):\n",
    "    print(file.title())\n",
    "print(os.path.join(CIFAR_DIR,os.listdir(CIFAR_DIR)[1].title()))"
   ],
   "metadata": {
    "collapsed": false,
    "pycharm": {
     "name": "#%%\n",
     "is_executing": false
    }
   }
  },
  {
   "cell_type": "code",
   "execution_count": 3,
   "outputs": [],
   "source": [
    "def load_single_data(filename):\n",
    "    \"\"\"读取单个数据集中的数据\"\"\"\n",
    "    with open(filename, 'rb') as one_file:\n",
    "        batch_data = pickle.load(one_file, encoding = \"bytes\")\n",
    "        return batch_data[b'data'], batch_data[b'labels']\n",
    "    \n",
    "# 数据读取处理\n",
    "class CIFAR10_Read:\n",
    "    def __init__(self, filenames, need_shuffle):\n",
    "        \"\"\"从文件列表中读取数据\"\"\"\n",
    "        all_data = []\n",
    "        all_labels = []\n",
    "        for filename in filenames:\n",
    "            \"\"\"将读取的数据存入数组中\"\"\"\n",
    "            data, labels = load_single_data(filename)\n",
    "            all_data.append(data)\n",
    "            all_labels.append(labels)\n",
    "        self._data = np.vstack(all_data)\n",
    "        self._data = self._data / 127.5 - 1\n",
    "        self._labels = np.hstack(all_labels)\n",
    "        print(self._data.shape, self._labels.shape)\n",
    "        self._num_examples = len(self._data)\n",
    "        self._need_shuffle  = need_shuffle\n",
    "        self._index = 0\n",
    "        if need_shuffle:\n",
    "            self.shuffle_data()\n",
    "            \n",
    "    def shuffle_data(self):\n",
    "        \"\"\"将数据进行乱序处理\"\"\"\n",
    "        p_index = np.random.permutation(self._num_examples)\n",
    "        self._data = self._data[p_index]\n",
    "        self._labels = self._labels[p_index]\n",
    "    \n",
    "    def next_batch(self, batch_size):\n",
    "        \"\"\"读取下一组数据集\"\"\"\n",
    "        if batch_size > self._num_examples:\n",
    "            raise Exception(\"batch size is larger than examples' num\")\n",
    "        end_index = self._index + batch_size\n",
    "        if end_index > self._num_examples:\n",
    "            if self._need_shuffle:\n",
    "                \"\"\"如果当前数据读取完毕，且如果可以对数据进行重排列，则重新组合数据集\"\"\"\n",
    "                self.shuffle_data()\n",
    "                self._index = 0\n",
    "                end_index = batch_size\n",
    "            else:\n",
    "                raise Exception(\"there is no more data\")\n",
    "        batch_data, batch_labels = self._data[self._index:end_index], self._labels[self._index:end_index] \n",
    "        self._index = end_index\n",
    "        return batch_data, batch_labels\n",
    "        "
   ],
   "metadata": {
    "collapsed": false,
    "pycharm": {
     "name": "#%%\n",
     "is_executing": false
    }
   }
  },
  {
   "cell_type": "code",
   "execution_count": 4,
   "outputs": [
    {
     "name": "stdout",
     "text": [
      "WARNING:tensorflow:From j:\\anacoda\\envs\\tf_2g\\lib\\site-packages\\tensorflow_core\\python\\compat\\v2_compat.py:65: disable_resource_variables (from tensorflow.python.ops.variable_scope) is deprecated and will be removed in a future version.\nInstructions for updating:\nnon-resource variables are not supported in the long term\n"
     ],
     "output_type": "stream"
    }
   ],
   "source": [
    "from tensorflow import compat as tf_compat\n",
    "tf = tf_compat.v1\n",
    "tf.disable_v2_behavior()"
   ],
   "metadata": {
    "collapsed": false,
    "pycharm": {
     "name": "#%%\n",
     "is_executing": false
    }
   }
  },
  {
   "cell_type": "markdown",
   "source": [
    "## 搭建多层卷积神经网络的计算图"
   ],
   "metadata": {
    "collapsed": false
   }
  },
  {
   "cell_type": "code",
   "execution_count": 5,
   "outputs": [
    {
     "name": "stdout",
     "text": [
      "WARNING:tensorflow:From <ipython-input-5-bd8256491507>:15: conv2d (from tensorflow.python.layers.convolutional) is deprecated and will be removed in a future version.\nInstructions for updating:\nUse `tf.keras.layers.Conv2D` instead.\n",
      "WARNING:tensorflow:From j:\\anacoda\\envs\\tf_2g\\lib\\site-packages\\tensorflow_core\\python\\layers\\convolutional.py:424: Layer.apply (from tensorflow.python.keras.engine.base_layer) is deprecated and will be removed in a future version.\nInstructions for updating:\nPlease use `layer.__call__` method instead.\n",
      "WARNING:tensorflow:From <ipython-input-5-bd8256491507>:20: max_pooling2d (from tensorflow.python.layers.pooling) is deprecated and will be removed in a future version.\nInstructions for updating:\nUse keras.layers.MaxPooling2D instead.\n",
      "WARNING:tensorflow:From <ipython-input-5-bd8256491507>:45: flatten (from tensorflow.python.layers.core) is deprecated and will be removed in a future version.\nInstructions for updating:\nUse keras.layers.flatten instead.\n",
      "WARNING:tensorflow:From <ipython-input-5-bd8256491507>:46: dense (from tensorflow.python.layers.core) is deprecated and will be removed in a future version.\nInstructions for updating:\nUse keras.layers.Dense instead.\n"
     ],
     "output_type": "stream"
    }
   ],
   "source": [
    "# 输入数据\n",
    "x = tf.placeholder(tf.float32, [None, 3072])\n",
    "# 输出标签\n",
    "y = tf.placeholder(tf.int64, [None])\n",
    "# 将一维数据转为三维数据\n",
    "x_image = tf.reshape(x, [-1, 3, 32, 32])\n",
    "# 将原始图像的维度进行转换，即转置\n",
    "x_image = tf.transpose(x_image, perm = [0, 2, 3, 1])\n",
    "# 卷积层\n",
    "conv1 = tf.layers.conv2d(x_image, # 输入数据 \n",
    "                         32,    # 卷积核数目，即特征数 \n",
    "                         (3,3),  # 卷积核大小\n",
    "                         padding = 'same',\n",
    "                         activation = tf.nn.relu,\n",
    "                         name = 'conv1')\n",
    "# 池化层\n",
    "pooling1 = tf.layers.max_pooling2d(conv1,\n",
    "                                   (2, 2), # kernel size\n",
    "                                   (2, 2), # stride(步长)\n",
    "                                   name =  \"pool1\")\n",
    "# 卷积层\n",
    "conv2 = tf.layers.conv2d(pooling1, # 输入数据 \n",
    "                         32,    # 卷积核数目，即特征数 \n",
    "                         (3,3),  # 卷积核大小\n",
    "                         padding = 'same',\n",
    "                         activation = tf.nn.relu,\n",
    "                         name = 'conv2')\n",
    "# 池化层\n",
    "pooling2 = tf.layers.max_pooling2d(conv2,\n",
    "                                   (2, 2), # kernel size\n",
    "                                   (2, 2), # stride(步长)\n",
    "                                   name =  \"pool2\")\n",
    "# 卷积层\n",
    "conv3 = tf.layers.conv2d(pooling2, # 输入数据 \n",
    "                         32,    # 卷积核数目，即特征数 \n",
    "                         (3,3),  # 卷积核大小\n",
    "                         padding = 'same',\n",
    "                         activation = tf.nn.relu,\n",
    "                         name = 'conv3')\n",
    "# 池化层\n",
    "pooling3 = tf.layers.max_pooling2d(conv3,\n",
    "                                   (2, 2), # kernel size\n",
    "                                   (2, 2), # stride(步长)\n",
    "                                   name =  \"pool3\")\n",
    "flatten = tf.layers.flatten(pooling3)\n",
    "y_ = tf.layers.dense(flatten, 10)\n",
    "# loss = tf.losses.sparse_softmax_cross_entropy(labels = y, logits = y_)\n",
    "# 进行概率映射\n",
    "p_y = tf.nn.softmax(y_)\n",
    "# 使用one_hot编码\n",
    "y_one_hot = tf.one_hot(y, 10, dtype = tf.float32)\n",
    "# 计算损失函数\n",
    "loss = tf.reduce_mean(tf.square(y_one_hot - p_y))\n",
    "# 从计算的结果中，获取最大值的索引作为预测的结果值\n",
    "predict = tf.argmax(y_, 1)\n",
    "# 计算平均正确率\n",
    "correct_predict = tf.equal(predict, y)\n",
    "accuracy = tf.reduce_mean(tf.cast(correct_predict, tf.float64))\n",
    "    \n",
    "with tf.name_scope('train_op'):\n",
    "    train_op = tf.train.AdamOptimizer(1e-3).minimize(loss)"
   ],
   "metadata": {
    "collapsed": false,
    "pycharm": {
     "name": "#%%\n",
     "is_executing": false
    }
   }
  },
  {
   "cell_type": "code",
   "execution_count": 7,
   "outputs": [
    {
     "name": "stdout",
     "text": [
      "['../data/cifar-10-batches-py\\\\Data_Batch_1', '../data/cifar-10-batches-py\\\\Data_Batch_2', '../data/cifar-10-batches-py\\\\Data_Batch_3', '../data/cifar-10-batches-py\\\\Data_Batch_4', '../data/cifar-10-batches-py\\\\Data_Batch_5']\n",
      "(50000, 3072) (50000,)\n",
      "Device mapping:\n/job:localhost/replica:0/task:0/device:GPU:0 -> device: 0, name: GeForce GTX 1050 Ti, pci bus id: 0000:01:00.0, compute capability: 6.1\n\n"
     ],
     "output_type": "stream"
    },
    {
     "traceback": [
      "\u001b[1;31m---------------------------------------------------------------------------\u001b[0m",
      "\u001b[1;31mUnknownError\u001b[0m                              Traceback (most recent call last)",
      "\u001b[1;32mj:\\anacoda\\envs\\tf_2g\\lib\\site-packages\\tensorflow_core\\python\\client\\session.py\u001b[0m in \u001b[0;36m_do_call\u001b[1;34m(self, fn, *args)\u001b[0m\n\u001b[0;32m   1364\u001b[0m     \u001b[1;32mtry\u001b[0m\u001b[1;33m:\u001b[0m\u001b[1;33m\u001b[0m\u001b[1;33m\u001b[0m\u001b[0m\n\u001b[1;32m-> 1365\u001b[1;33m       \u001b[1;32mreturn\u001b[0m \u001b[0mfn\u001b[0m\u001b[1;33m(\u001b[0m\u001b[1;33m*\u001b[0m\u001b[0margs\u001b[0m\u001b[1;33m)\u001b[0m\u001b[1;33m\u001b[0m\u001b[1;33m\u001b[0m\u001b[0m\n\u001b[0m\u001b[0;32m   1366\u001b[0m     \u001b[1;32mexcept\u001b[0m \u001b[0merrors\u001b[0m\u001b[1;33m.\u001b[0m\u001b[0mOpError\u001b[0m \u001b[1;32mas\u001b[0m \u001b[0me\u001b[0m\u001b[1;33m:\u001b[0m\u001b[1;33m\u001b[0m\u001b[1;33m\u001b[0m\u001b[0m\n",
      "\u001b[1;32mj:\\anacoda\\envs\\tf_2g\\lib\\site-packages\\tensorflow_core\\python\\client\\session.py\u001b[0m in \u001b[0;36m_run_fn\u001b[1;34m(feed_dict, fetch_list, target_list, options, run_metadata)\u001b[0m\n\u001b[0;32m   1349\u001b[0m       return self._call_tf_sessionrun(options, feed_dict, fetch_list,\n\u001b[1;32m-> 1350\u001b[1;33m                                       target_list, run_metadata)\n\u001b[0m\u001b[0;32m   1351\u001b[0m \u001b[1;33m\u001b[0m\u001b[0m\n",
      "\u001b[1;32mj:\\anacoda\\envs\\tf_2g\\lib\\site-packages\\tensorflow_core\\python\\client\\session.py\u001b[0m in \u001b[0;36m_call_tf_sessionrun\u001b[1;34m(self, options, feed_dict, fetch_list, target_list, run_metadata)\u001b[0m\n\u001b[0;32m   1442\u001b[0m                                             \u001b[0mfetch_list\u001b[0m\u001b[1;33m,\u001b[0m \u001b[0mtarget_list\u001b[0m\u001b[1;33m,\u001b[0m\u001b[1;33m\u001b[0m\u001b[1;33m\u001b[0m\u001b[0m\n\u001b[1;32m-> 1443\u001b[1;33m                                             run_metadata)\n\u001b[0m\u001b[0;32m   1444\u001b[0m \u001b[1;33m\u001b[0m\u001b[0m\n",
      "\u001b[1;31mUnknownError\u001b[0m: 2 root error(s) found.\n  (0) Unknown: Failed to get convolution algorithm. This is probably because cuDNN failed to initialize, so try looking to see if a warning log message was printed above.\n\t [[{{node conv1/Conv2D}}]]\n\t [[Mean/_7]]\n  (1) Unknown: Failed to get convolution algorithm. This is probably because cuDNN failed to initialize, so try looking to see if a warning log message was printed above.\n\t [[{{node conv1/Conv2D}}]]\n0 successful operations.\n0 derived errors ignored.",
      "\nDuring handling of the above exception, another exception occurred:\n",
      "\u001b[1;31mUnknownError\u001b[0m                              Traceback (most recent call last)",
      "\u001b[1;32m<ipython-input-7-18f03a572a86>\u001b[0m in \u001b[0;36m<module>\u001b[1;34m\u001b[0m\n\u001b[0;32m     22\u001b[0m                                         feed_dict={\n\u001b[0;32m     23\u001b[0m                                             \u001b[0mx\u001b[0m\u001b[1;33m:\u001b[0m \u001b[0mone_batch_data\u001b[0m\u001b[1;33m,\u001b[0m\u001b[1;33m\u001b[0m\u001b[1;33m\u001b[0m\u001b[0m\n\u001b[1;32m---> 24\u001b[1;33m                                             \u001b[0my\u001b[0m\u001b[1;33m:\u001b[0m \u001b[0mone_batch_labels\u001b[0m\u001b[1;33m\u001b[0m\u001b[1;33m\u001b[0m\u001b[0m\n\u001b[0m\u001b[0;32m     25\u001b[0m                                         })\n\u001b[0;32m     26\u001b[0m         \u001b[1;32mif\u001b[0m \u001b[1;33m(\u001b[0m\u001b[0mone_train_step\u001b[0m \u001b[1;33m+\u001b[0m \u001b[1;36m1\u001b[0m\u001b[1;33m)\u001b[0m \u001b[1;33m%\u001b[0m \u001b[1;36m500\u001b[0m \u001b[1;33m==\u001b[0m \u001b[1;36m0\u001b[0m\u001b[1;33m:\u001b[0m\u001b[1;33m\u001b[0m\u001b[1;33m\u001b[0m\u001b[0m\n",
      "\u001b[1;32mj:\\anacoda\\envs\\tf_2g\\lib\\site-packages\\tensorflow_core\\python\\client\\session.py\u001b[0m in \u001b[0;36mrun\u001b[1;34m(self, fetches, feed_dict, options, run_metadata)\u001b[0m\n\u001b[0;32m    954\u001b[0m     \u001b[1;32mtry\u001b[0m\u001b[1;33m:\u001b[0m\u001b[1;33m\u001b[0m\u001b[1;33m\u001b[0m\u001b[0m\n\u001b[0;32m    955\u001b[0m       result = self._run(None, fetches, feed_dict, options_ptr,\n\u001b[1;32m--> 956\u001b[1;33m                          run_metadata_ptr)\n\u001b[0m\u001b[0;32m    957\u001b[0m       \u001b[1;32mif\u001b[0m \u001b[0mrun_metadata\u001b[0m\u001b[1;33m:\u001b[0m\u001b[1;33m\u001b[0m\u001b[1;33m\u001b[0m\u001b[0m\n\u001b[0;32m    958\u001b[0m         \u001b[0mproto_data\u001b[0m \u001b[1;33m=\u001b[0m \u001b[0mtf_session\u001b[0m\u001b[1;33m.\u001b[0m\u001b[0mTF_GetBuffer\u001b[0m\u001b[1;33m(\u001b[0m\u001b[0mrun_metadata_ptr\u001b[0m\u001b[1;33m)\u001b[0m\u001b[1;33m\u001b[0m\u001b[1;33m\u001b[0m\u001b[0m\n",
      "\u001b[1;32mj:\\anacoda\\envs\\tf_2g\\lib\\site-packages\\tensorflow_core\\python\\client\\session.py\u001b[0m in \u001b[0;36m_run\u001b[1;34m(self, handle, fetches, feed_dict, options, run_metadata)\u001b[0m\n\u001b[0;32m   1178\u001b[0m     \u001b[1;32mif\u001b[0m \u001b[0mfinal_fetches\u001b[0m \u001b[1;32mor\u001b[0m \u001b[0mfinal_targets\u001b[0m \u001b[1;32mor\u001b[0m \u001b[1;33m(\u001b[0m\u001b[0mhandle\u001b[0m \u001b[1;32mand\u001b[0m \u001b[0mfeed_dict_tensor\u001b[0m\u001b[1;33m)\u001b[0m\u001b[1;33m:\u001b[0m\u001b[1;33m\u001b[0m\u001b[1;33m\u001b[0m\u001b[0m\n\u001b[0;32m   1179\u001b[0m       results = self._do_run(handle, final_targets, final_fetches,\n\u001b[1;32m-> 1180\u001b[1;33m                              feed_dict_tensor, options, run_metadata)\n\u001b[0m\u001b[0;32m   1181\u001b[0m     \u001b[1;32melse\u001b[0m\u001b[1;33m:\u001b[0m\u001b[1;33m\u001b[0m\u001b[1;33m\u001b[0m\u001b[0m\n\u001b[0;32m   1182\u001b[0m       \u001b[0mresults\u001b[0m \u001b[1;33m=\u001b[0m \u001b[1;33m[\u001b[0m\u001b[1;33m]\u001b[0m\u001b[1;33m\u001b[0m\u001b[1;33m\u001b[0m\u001b[0m\n",
      "\u001b[1;32mj:\\anacoda\\envs\\tf_2g\\lib\\site-packages\\tensorflow_core\\python\\client\\session.py\u001b[0m in \u001b[0;36m_do_run\u001b[1;34m(self, handle, target_list, fetch_list, feed_dict, options, run_metadata)\u001b[0m\n\u001b[0;32m   1357\u001b[0m     \u001b[1;32mif\u001b[0m \u001b[0mhandle\u001b[0m \u001b[1;32mis\u001b[0m \u001b[1;32mNone\u001b[0m\u001b[1;33m:\u001b[0m\u001b[1;33m\u001b[0m\u001b[1;33m\u001b[0m\u001b[0m\n\u001b[0;32m   1358\u001b[0m       return self._do_call(_run_fn, feeds, fetches, targets, options,\n\u001b[1;32m-> 1359\u001b[1;33m                            run_metadata)\n\u001b[0m\u001b[0;32m   1360\u001b[0m     \u001b[1;32melse\u001b[0m\u001b[1;33m:\u001b[0m\u001b[1;33m\u001b[0m\u001b[1;33m\u001b[0m\u001b[0m\n\u001b[0;32m   1361\u001b[0m       \u001b[1;32mreturn\u001b[0m \u001b[0mself\u001b[0m\u001b[1;33m.\u001b[0m\u001b[0m_do_call\u001b[0m\u001b[1;33m(\u001b[0m\u001b[0m_prun_fn\u001b[0m\u001b[1;33m,\u001b[0m \u001b[0mhandle\u001b[0m\u001b[1;33m,\u001b[0m \u001b[0mfeeds\u001b[0m\u001b[1;33m,\u001b[0m \u001b[0mfetches\u001b[0m\u001b[1;33m)\u001b[0m\u001b[1;33m\u001b[0m\u001b[1;33m\u001b[0m\u001b[0m\n",
      "\u001b[1;32mj:\\anacoda\\envs\\tf_2g\\lib\\site-packages\\tensorflow_core\\python\\client\\session.py\u001b[0m in \u001b[0;36m_do_call\u001b[1;34m(self, fn, *args)\u001b[0m\n\u001b[0;32m   1382\u001b[0m                     \u001b[1;34m'\\nsession_config.graph_options.rewrite_options.'\u001b[0m\u001b[1;33m\u001b[0m\u001b[1;33m\u001b[0m\u001b[0m\n\u001b[0;32m   1383\u001b[0m                     'disable_meta_optimizer = True')\n\u001b[1;32m-> 1384\u001b[1;33m       \u001b[1;32mraise\u001b[0m \u001b[0mtype\u001b[0m\u001b[1;33m(\u001b[0m\u001b[0me\u001b[0m\u001b[1;33m)\u001b[0m\u001b[1;33m(\u001b[0m\u001b[0mnode_def\u001b[0m\u001b[1;33m,\u001b[0m \u001b[0mop\u001b[0m\u001b[1;33m,\u001b[0m \u001b[0mmessage\u001b[0m\u001b[1;33m)\u001b[0m\u001b[1;33m\u001b[0m\u001b[1;33m\u001b[0m\u001b[0m\n\u001b[0m\u001b[0;32m   1385\u001b[0m \u001b[1;33m\u001b[0m\u001b[0m\n\u001b[0;32m   1386\u001b[0m   \u001b[1;32mdef\u001b[0m \u001b[0m_extend_graph\u001b[0m\u001b[1;33m(\u001b[0m\u001b[0mself\u001b[0m\u001b[1;33m)\u001b[0m\u001b[1;33m:\u001b[0m\u001b[1;33m\u001b[0m\u001b[1;33m\u001b[0m\u001b[0m\n",
      "\u001b[1;31mUnknownError\u001b[0m: 2 root error(s) found.\n  (0) Unknown: Failed to get convolution algorithm. This is probably because cuDNN failed to initialize, so try looking to see if a warning log message was printed above.\n\t [[node conv1/Conv2D (defined at j:\\anacoda\\envs\\tf_2g\\lib\\site-packages\\tensorflow_core\\python\\framework\\ops.py:1751) ]]\n\t [[Mean/_7]]\n  (1) Unknown: Failed to get convolution algorithm. This is probably because cuDNN failed to initialize, so try looking to see if a warning log message was printed above.\n\t [[node conv1/Conv2D (defined at j:\\anacoda\\envs\\tf_2g\\lib\\site-packages\\tensorflow_core\\python\\framework\\ops.py:1751) ]]\n0 successful operations.\n0 derived errors ignored.\n\nOriginal stack trace for 'conv1/Conv2D':\n  File \"j:\\anacoda\\envs\\tf_2g\\lib\\runpy.py\", line 193, in _run_module_as_main\n    \"__main__\", mod_spec)\n  File \"j:\\anacoda\\envs\\tf_2g\\lib\\runpy.py\", line 85, in _run_code\n    exec(code, run_globals)\n  File \"j:\\anacoda\\envs\\tf_2g\\lib\\site-packages\\ipykernel_launcher.py\", line 16, in <module>\n    app.launch_new_instance()\n  File \"j:\\anacoda\\envs\\tf_2g\\lib\\site-packages\\traitlets\\config\\application.py\", line 664, in launch_instance\n    app.start()\n  File \"j:\\anacoda\\envs\\tf_2g\\lib\\site-packages\\ipykernel\\kernelapp.py\", line 563, in start\n    self.io_loop.start()\n  File \"j:\\anacoda\\envs\\tf_2g\\lib\\site-packages\\tornado\\platform\\asyncio.py\", line 148, in start\n    self.asyncio_loop.run_forever()\n  File \"j:\\anacoda\\envs\\tf_2g\\lib\\asyncio\\base_events.py\", line 438, in run_forever\n    self._run_once()\n  File \"j:\\anacoda\\envs\\tf_2g\\lib\\asyncio\\base_events.py\", line 1451, in _run_once\n    handle._run()\n  File \"j:\\anacoda\\envs\\tf_2g\\lib\\asyncio\\events.py\", line 145, in _run\n    self._callback(*self._args)\n  File \"j:\\anacoda\\envs\\tf_2g\\lib\\site-packages\\tornado\\ioloop.py\", line 690, in <lambda>\n    lambda f: self._run_callback(functools.partial(callback, future))\n  File \"j:\\anacoda\\envs\\tf_2g\\lib\\site-packages\\tornado\\ioloop.py\", line 743, in _run_callback\n    ret = callback()\n  File \"j:\\anacoda\\envs\\tf_2g\\lib\\site-packages\\tornado\\gen.py\", line 787, in inner\n    self.run()\n  File \"j:\\anacoda\\envs\\tf_2g\\lib\\site-packages\\tornado\\gen.py\", line 748, in run\n    yielded = self.gen.send(value)\n  File \"j:\\anacoda\\envs\\tf_2g\\lib\\site-packages\\ipykernel\\kernelbase.py\", line 361, in process_one\n    yield gen.maybe_future(dispatch(*args))\n  File \"j:\\anacoda\\envs\\tf_2g\\lib\\site-packages\\tornado\\gen.py\", line 209, in wrapper\n    yielded = next(result)\n  File \"j:\\anacoda\\envs\\tf_2g\\lib\\site-packages\\ipykernel\\kernelbase.py\", line 268, in dispatch_shell\n    yield gen.maybe_future(handler(stream, idents, msg))\n  File \"j:\\anacoda\\envs\\tf_2g\\lib\\site-packages\\tornado\\gen.py\", line 209, in wrapper\n    yielded = next(result)\n  File \"j:\\anacoda\\envs\\tf_2g\\lib\\site-packages\\ipykernel\\kernelbase.py\", line 541, in execute_request\n    user_expressions, allow_stdin,\n  File \"j:\\anacoda\\envs\\tf_2g\\lib\\site-packages\\tornado\\gen.py\", line 209, in wrapper\n    yielded = next(result)\n  File \"j:\\anacoda\\envs\\tf_2g\\lib\\site-packages\\ipykernel\\ipkernel.py\", line 300, in do_execute\n    res = shell.run_cell(code, store_history=store_history, silent=silent)\n  File \"j:\\anacoda\\envs\\tf_2g\\lib\\site-packages\\ipykernel\\zmqshell.py\", line 536, in run_cell\n    return super(ZMQInteractiveShell, self).run_cell(*args, **kwargs)\n  File \"j:\\anacoda\\envs\\tf_2g\\lib\\site-packages\\IPython\\core\\interactiveshell.py\", line 2855, in run_cell\n    raw_cell, store_history, silent, shell_futures)\n  File \"j:\\anacoda\\envs\\tf_2g\\lib\\site-packages\\IPython\\core\\interactiveshell.py\", line 2881, in _run_cell\n    return runner(coro)\n  File \"j:\\anacoda\\envs\\tf_2g\\lib\\site-packages\\IPython\\core\\async_helpers.py\", line 68, in _pseudo_sync_runner\n    coro.send(None)\n  File \"j:\\anacoda\\envs\\tf_2g\\lib\\site-packages\\IPython\\core\\interactiveshell.py\", line 3058, in run_cell_async\n    interactivity=interactivity, compiler=compiler, result=result)\n  File \"j:\\anacoda\\envs\\tf_2g\\lib\\site-packages\\IPython\\core\\interactiveshell.py\", line 3249, in run_ast_nodes\n    if (await self.run_code(code, result,  async_=asy)):\n  File \"j:\\anacoda\\envs\\tf_2g\\lib\\site-packages\\IPython\\core\\interactiveshell.py\", line 3326, in run_code\n    exec(code_obj, self.user_global_ns, self.user_ns)\n  File \"<ipython-input-5-bd8256491507>\", line 15, in <module>\n    name = 'conv1')\n  File \"j:\\anacoda\\envs\\tf_2g\\lib\\site-packages\\tensorflow_core\\python\\util\\deprecation.py\", line 324, in new_func\n    return func(*args, **kwargs)\n  File \"j:\\anacoda\\envs\\tf_2g\\lib\\site-packages\\tensorflow_core\\python\\layers\\convolutional.py\", line 424, in conv2d\n    return layer.apply(inputs)\n  File \"j:\\anacoda\\envs\\tf_2g\\lib\\site-packages\\tensorflow_core\\python\\util\\deprecation.py\", line 324, in new_func\n    return func(*args, **kwargs)\n  File \"j:\\anacoda\\envs\\tf_2g\\lib\\site-packages\\tensorflow_core\\python\\keras\\engine\\base_layer.py\", line 1695, in apply\n    return self.__call__(inputs, *args, **kwargs)\n  File \"j:\\anacoda\\envs\\tf_2g\\lib\\site-packages\\tensorflow_core\\python\\layers\\base.py\", line 548, in __call__\n    outputs = super(Layer, self).__call__(inputs, *args, **kwargs)\n  File \"j:\\anacoda\\envs\\tf_2g\\lib\\site-packages\\tensorflow_core\\python\\keras\\engine\\base_layer.py\", line 847, in __call__\n    outputs = call_fn(cast_inputs, *args, **kwargs)\n  File \"j:\\anacoda\\envs\\tf_2g\\lib\\site-packages\\tensorflow_core\\python\\autograph\\impl\\api.py\", line 234, in wrapper\n    return converted_call(f, options, args, kwargs)\n  File \"j:\\anacoda\\envs\\tf_2g\\lib\\site-packages\\tensorflow_core\\python\\autograph\\impl\\api.py\", line 439, in converted_call\n    return _call_unconverted(f, args, kwargs, options)\n  File \"j:\\anacoda\\envs\\tf_2g\\lib\\site-packages\\tensorflow_core\\python\\autograph\\impl\\api.py\", line 330, in _call_unconverted\n    return f(*args, **kwargs)\n  File \"j:\\anacoda\\envs\\tf_2g\\lib\\site-packages\\tensorflow_core\\python\\keras\\layers\\convolutional.py\", line 197, in call\n    outputs = self._convolution_op(inputs, self.kernel)\n  File \"j:\\anacoda\\envs\\tf_2g\\lib\\site-packages\\tensorflow_core\\python\\ops\\nn_ops.py\", line 1134, in __call__\n    return self.conv_op(inp, filter)\n  File \"j:\\anacoda\\envs\\tf_2g\\lib\\site-packages\\tensorflow_core\\python\\ops\\nn_ops.py\", line 639, in __call__\n    return self.call(inp, filter)\n  File \"j:\\anacoda\\envs\\tf_2g\\lib\\site-packages\\tensorflow_core\\python\\ops\\nn_ops.py\", line 238, in __call__\n    name=self.name)\n  File \"j:\\anacoda\\envs\\tf_2g\\lib\\site-packages\\tensorflow_core\\python\\ops\\nn_ops.py\", line 2010, in conv2d\n    name=name)\n  File \"j:\\anacoda\\envs\\tf_2g\\lib\\site-packages\\tensorflow_core\\python\\ops\\gen_nn_ops.py\", line 1071, in conv2d\n    data_format=data_format, dilations=dilations, name=name)\n  File \"j:\\anacoda\\envs\\tf_2g\\lib\\site-packages\\tensorflow_core\\python\\framework\\op_def_library.py\", line 793, in _apply_op_helper\n    op_def=op_def)\n  File \"j:\\anacoda\\envs\\tf_2g\\lib\\site-packages\\tensorflow_core\\python\\util\\deprecation.py\", line 507, in new_func\n    return func(*args, **kwargs)\n  File \"j:\\anacoda\\envs\\tf_2g\\lib\\site-packages\\tensorflow_core\\python\\framework\\ops.py\", line 3360, in create_op\n    attrs, op_def, compute_device)\n  File \"j:\\anacoda\\envs\\tf_2g\\lib\\site-packages\\tensorflow_core\\python\\framework\\ops.py\", line 3429, in _create_op_internal\n    op_def=op_def)\n  File \"j:\\anacoda\\envs\\tf_2g\\lib\\site-packages\\tensorflow_core\\python\\framework\\ops.py\", line 1751, in __init__\n    self._traceback = tf_stack.extract_stack()\n"
     ],
     "ename": "UnknownError",
     "evalue": "2 root error(s) found.\n  (0) Unknown: Failed to get convolution algorithm. This is probably because cuDNN failed to initialize, so try looking to see if a warning log message was printed above.\n\t [[node conv1/Conv2D (defined at j:\\anacoda\\envs\\tf_2g\\lib\\site-packages\\tensorflow_core\\python\\framework\\ops.py:1751) ]]\n\t [[Mean/_7]]\n  (1) Unknown: Failed to get convolution algorithm. This is probably because cuDNN failed to initialize, so try looking to see if a warning log message was printed above.\n\t [[node conv1/Conv2D (defined at j:\\anacoda\\envs\\tf_2g\\lib\\site-packages\\tensorflow_core\\python\\framework\\ops.py:1751) ]]\n0 successful operations.\n0 derived errors ignored.\n\nOriginal stack trace for 'conv1/Conv2D':\n  File \"j:\\anacoda\\envs\\tf_2g\\lib\\runpy.py\", line 193, in _run_module_as_main\n    \"__main__\", mod_spec)\n  File \"j:\\anacoda\\envs\\tf_2g\\lib\\runpy.py\", line 85, in _run_code\n    exec(code, run_globals)\n  File \"j:\\anacoda\\envs\\tf_2g\\lib\\site-packages\\ipykernel_launcher.py\", line 16, in <module>\n    app.launch_new_instance()\n  File \"j:\\anacoda\\envs\\tf_2g\\lib\\site-packages\\traitlets\\config\\application.py\", line 664, in launch_instance\n    app.start()\n  File \"j:\\anacoda\\envs\\tf_2g\\lib\\site-packages\\ipykernel\\kernelapp.py\", line 563, in start\n    self.io_loop.start()\n  File \"j:\\anacoda\\envs\\tf_2g\\lib\\site-packages\\tornado\\platform\\asyncio.py\", line 148, in start\n    self.asyncio_loop.run_forever()\n  File \"j:\\anacoda\\envs\\tf_2g\\lib\\asyncio\\base_events.py\", line 438, in run_forever\n    self._run_once()\n  File \"j:\\anacoda\\envs\\tf_2g\\lib\\asyncio\\base_events.py\", line 1451, in _run_once\n    handle._run()\n  File \"j:\\anacoda\\envs\\tf_2g\\lib\\asyncio\\events.py\", line 145, in _run\n    self._callback(*self._args)\n  File \"j:\\anacoda\\envs\\tf_2g\\lib\\site-packages\\tornado\\ioloop.py\", line 690, in <lambda>\n    lambda f: self._run_callback(functools.partial(callback, future))\n  File \"j:\\anacoda\\envs\\tf_2g\\lib\\site-packages\\tornado\\ioloop.py\", line 743, in _run_callback\n    ret = callback()\n  File \"j:\\anacoda\\envs\\tf_2g\\lib\\site-packages\\tornado\\gen.py\", line 787, in inner\n    self.run()\n  File \"j:\\anacoda\\envs\\tf_2g\\lib\\site-packages\\tornado\\gen.py\", line 748, in run\n    yielded = self.gen.send(value)\n  File \"j:\\anacoda\\envs\\tf_2g\\lib\\site-packages\\ipykernel\\kernelbase.py\", line 361, in process_one\n    yield gen.maybe_future(dispatch(*args))\n  File \"j:\\anacoda\\envs\\tf_2g\\lib\\site-packages\\tornado\\gen.py\", line 209, in wrapper\n    yielded = next(result)\n  File \"j:\\anacoda\\envs\\tf_2g\\lib\\site-packages\\ipykernel\\kernelbase.py\", line 268, in dispatch_shell\n    yield gen.maybe_future(handler(stream, idents, msg))\n  File \"j:\\anacoda\\envs\\tf_2g\\lib\\site-packages\\tornado\\gen.py\", line 209, in wrapper\n    yielded = next(result)\n  File \"j:\\anacoda\\envs\\tf_2g\\lib\\site-packages\\ipykernel\\kernelbase.py\", line 541, in execute_request\n    user_expressions, allow_stdin,\n  File \"j:\\anacoda\\envs\\tf_2g\\lib\\site-packages\\tornado\\gen.py\", line 209, in wrapper\n    yielded = next(result)\n  File \"j:\\anacoda\\envs\\tf_2g\\lib\\site-packages\\ipykernel\\ipkernel.py\", line 300, in do_execute\n    res = shell.run_cell(code, store_history=store_history, silent=silent)\n  File \"j:\\anacoda\\envs\\tf_2g\\lib\\site-packages\\ipykernel\\zmqshell.py\", line 536, in run_cell\n    return super(ZMQInteractiveShell, self).run_cell(*args, **kwargs)\n  File \"j:\\anacoda\\envs\\tf_2g\\lib\\site-packages\\IPython\\core\\interactiveshell.py\", line 2855, in run_cell\n    raw_cell, store_history, silent, shell_futures)\n  File \"j:\\anacoda\\envs\\tf_2g\\lib\\site-packages\\IPython\\core\\interactiveshell.py\", line 2881, in _run_cell\n    return runner(coro)\n  File \"j:\\anacoda\\envs\\tf_2g\\lib\\site-packages\\IPython\\core\\async_helpers.py\", line 68, in _pseudo_sync_runner\n    coro.send(None)\n  File \"j:\\anacoda\\envs\\tf_2g\\lib\\site-packages\\IPython\\core\\interactiveshell.py\", line 3058, in run_cell_async\n    interactivity=interactivity, compiler=compiler, result=result)\n  File \"j:\\anacoda\\envs\\tf_2g\\lib\\site-packages\\IPython\\core\\interactiveshell.py\", line 3249, in run_ast_nodes\n    if (await self.run_code(code, result,  async_=asy)):\n  File \"j:\\anacoda\\envs\\tf_2g\\lib\\site-packages\\IPython\\core\\interactiveshell.py\", line 3326, in run_code\n    exec(code_obj, self.user_global_ns, self.user_ns)\n  File \"<ipython-input-5-bd8256491507>\", line 15, in <module>\n    name = 'conv1')\n  File \"j:\\anacoda\\envs\\tf_2g\\lib\\site-packages\\tensorflow_core\\python\\util\\deprecation.py\", line 324, in new_func\n    return func(*args, **kwargs)\n  File \"j:\\anacoda\\envs\\tf_2g\\lib\\site-packages\\tensorflow_core\\python\\layers\\convolutional.py\", line 424, in conv2d\n    return layer.apply(inputs)\n  File \"j:\\anacoda\\envs\\tf_2g\\lib\\site-packages\\tensorflow_core\\python\\util\\deprecation.py\", line 324, in new_func\n    return func(*args, **kwargs)\n  File \"j:\\anacoda\\envs\\tf_2g\\lib\\site-packages\\tensorflow_core\\python\\keras\\engine\\base_layer.py\", line 1695, in apply\n    return self.__call__(inputs, *args, **kwargs)\n  File \"j:\\anacoda\\envs\\tf_2g\\lib\\site-packages\\tensorflow_core\\python\\layers\\base.py\", line 548, in __call__\n    outputs = super(Layer, self).__call__(inputs, *args, **kwargs)\n  File \"j:\\anacoda\\envs\\tf_2g\\lib\\site-packages\\tensorflow_core\\python\\keras\\engine\\base_layer.py\", line 847, in __call__\n    outputs = call_fn(cast_inputs, *args, **kwargs)\n  File \"j:\\anacoda\\envs\\tf_2g\\lib\\site-packages\\tensorflow_core\\python\\autograph\\impl\\api.py\", line 234, in wrapper\n    return converted_call(f, options, args, kwargs)\n  File \"j:\\anacoda\\envs\\tf_2g\\lib\\site-packages\\tensorflow_core\\python\\autograph\\impl\\api.py\", line 439, in converted_call\n    return _call_unconverted(f, args, kwargs, options)\n  File \"j:\\anacoda\\envs\\tf_2g\\lib\\site-packages\\tensorflow_core\\python\\autograph\\impl\\api.py\", line 330, in _call_unconverted\n    return f(*args, **kwargs)\n  File \"j:\\anacoda\\envs\\tf_2g\\lib\\site-packages\\tensorflow_core\\python\\keras\\layers\\convolutional.py\", line 197, in call\n    outputs = self._convolution_op(inputs, self.kernel)\n  File \"j:\\anacoda\\envs\\tf_2g\\lib\\site-packages\\tensorflow_core\\python\\ops\\nn_ops.py\", line 1134, in __call__\n    return self.conv_op(inp, filter)\n  File \"j:\\anacoda\\envs\\tf_2g\\lib\\site-packages\\tensorflow_core\\python\\ops\\nn_ops.py\", line 639, in __call__\n    return self.call(inp, filter)\n  File \"j:\\anacoda\\envs\\tf_2g\\lib\\site-packages\\tensorflow_core\\python\\ops\\nn_ops.py\", line 238, in __call__\n    name=self.name)\n  File \"j:\\anacoda\\envs\\tf_2g\\lib\\site-packages\\tensorflow_core\\python\\ops\\nn_ops.py\", line 2010, in conv2d\n    name=name)\n  File \"j:\\anacoda\\envs\\tf_2g\\lib\\site-packages\\tensorflow_core\\python\\ops\\gen_nn_ops.py\", line 1071, in conv2d\n    data_format=data_format, dilations=dilations, name=name)\n  File \"j:\\anacoda\\envs\\tf_2g\\lib\\site-packages\\tensorflow_core\\python\\framework\\op_def_library.py\", line 793, in _apply_op_helper\n    op_def=op_def)\n  File \"j:\\anacoda\\envs\\tf_2g\\lib\\site-packages\\tensorflow_core\\python\\util\\deprecation.py\", line 507, in new_func\n    return func(*args, **kwargs)\n  File \"j:\\anacoda\\envs\\tf_2g\\lib\\site-packages\\tensorflow_core\\python\\framework\\ops.py\", line 3360, in create_op\n    attrs, op_def, compute_device)\n  File \"j:\\anacoda\\envs\\tf_2g\\lib\\site-packages\\tensorflow_core\\python\\framework\\ops.py\", line 3429, in _create_op_internal\n    op_def=op_def)\n  File \"j:\\anacoda\\envs\\tf_2g\\lib\\site-packages\\tensorflow_core\\python\\framework\\ops.py\", line 1751, in __init__\n    self._traceback = tf_stack.extract_stack()\n",
     "output_type": "error"
    }
   ],
   "source": [
    "initializer =  tf.global_variables_initializer()\n",
    "batch_steps = 10000\n",
    "batch_size = 50\n",
    "test_steps = int(2000 / batch_size)\n",
    "train_filenames = [os.path.join(CIFAR_DIR, \"Data_Batch_%d\" % i) for i in range(1,6)]\n",
    "test_filenames = [os.path.join(CIFAR_DIR, \"Test_Batch\")]\n",
    "print(train_filenames)\n",
    "train_data_reader = CIFAR10_Read(train_filenames, True)\n",
    "def print_log(step,  acc, current_loss_val = None, is_test = False):\n",
    "    if is_test:\n",
    "        print(\"[Test] Step %d, acc: %4.5f.\" %(step, acc))\n",
    "    else:\n",
    "        print(\"[Train] Step %d, loss: %4.5f, acc: %4.5f.\" %(step, current_loss_val, acc))\n",
    "        \n",
    "    \n",
    "with tf.Session(config=tf.ConfigProto(log_device_placement=True)) as sess:\n",
    "# 初始化所有的变量数据\n",
    "    sess.run(initializer)\n",
    "    for one_train_step in range(batch_steps):\n",
    "        one_batch_data, one_batch_labels = train_data_reader.next_batch(batch_size)\n",
    "        loss_val, acc_val, _ = sess.run([loss, accuracy, train_op],\n",
    "                                        feed_dict={\n",
    "                                            x: one_batch_data,\n",
    "                                            y: one_batch_labels\n",
    "                                        })\n",
    "        if (one_train_step + 1) % 500 == 0:\n",
    "            print_log(step = one_train_step+1, acc = acc_val, current_loss_val = loss_val)\n",
    "        if (one_train_step + 1) % 2000 == 0:\n",
    "            test_data = CIFAR10_Read(test_filenames, False)\n",
    "            one_test_mean_acc=[]\n",
    "            one_test_mean_loss =[]\n",
    "            for one_test_step in range(test_steps):\n",
    "                one_test_batch_data, one_test_batch_labels = test_data.next_batch(batch_size)\n",
    "                test_acc_val = sess.run(\n",
    "                    [accuracy],\n",
    "                    feed_dict={\n",
    "                        x: one_test_batch_data,\n",
    "                        y: one_test_batch_labels\n",
    "                    }\n",
    "                )\n",
    "                one_test_mean_acc.append(test_acc_val)\n",
    "            print_log(step = one_train_step + 1, acc = np.mean(one_test_mean_acc), is_test=True)"
   ],
   "metadata": {
    "collapsed": false,
    "pycharm": {
     "name": "#%%\n",
     "is_executing": false
    }
   }
  },
  {
   "cell_type": "code",
   "execution_count": null,
   "outputs": [],
   "source": [
    "\n",
    "\n"
   ],
   "metadata": {
    "collapsed": false,
    "pycharm": {
     "name": "#%%\n",
     "is_executing": false
    }
   }
  }
 ],
 "metadata": {
  "kernelspec": {
   "display_name": "Python 3",
   "language": "python",
   "name": "python3"
  },
  "language_info": {
   "codemirror_mode": {
    "name": "ipython",
    "version": 2
   },
   "file_extension": ".py",
   "mimetype": "text/x-python",
   "name": "python",
   "nbconvert_exporter": "python",
   "pygments_lexer": "ipython2",
   "version": "2.7.6"
  },
  "pycharm": {
   "stem_cell": {
    "cell_type": "raw",
    "source": [],
    "metadata": {
     "collapsed": false
    }
   }
  }
 },
 "nbformat": 4,
 "nbformat_minor": 0
}