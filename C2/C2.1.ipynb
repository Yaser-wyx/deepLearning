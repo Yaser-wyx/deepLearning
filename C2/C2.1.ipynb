{
 "cells": [
  {
   "cell_type": "markdown",
   "metadata": {
    "collapsed": true,
    "pycharm": {
     "name": "#%% md\n"
    }
   },
   "source": [
    "## 搭建神经网络"
   ]
  },
  {
   "cell_type": "code",
   "execution_count": 1,
   "outputs": [],
   "source": [
    "import pickle\n",
    "import os\n",
    "import numpy as np\n",
    "CIFAR_DIR = \"../data/cifar-10-batches-py\""
   ],
   "metadata": {
    "collapsed": false,
    "pycharm": {
     "name": "#%%\n",
     "is_executing": false
    }
   }
  },
  {
   "cell_type": "code",
   "execution_count": 2,
   "outputs": [
    {
     "name": "stdout",
     "text": [
      "Batches.Meta\nData_Batch_1\nData_Batch_2\nData_Batch_3\nData_Batch_4\nData_Batch_5\nReadme.Html\nTest_Batch\n../data/cifar-10-batches-py\\Data_Batch_1\n"
     ],
     "output_type": "stream"
    }
   ],
   "source": [
    "for file in os.listdir(CIFAR_DIR):\n",
    "    print(file.title())\n",
    "print(os.path.join(CIFAR_DIR,os.listdir(CIFAR_DIR)[1].title()))"
   ],
   "metadata": {
    "collapsed": false,
    "pycharm": {
     "name": "#%%\n",
     "is_executing": false
    }
   }
  },
  {
   "cell_type": "code",
   "execution_count": 3,
   "outputs": [],
   "source": [
    "def load_single_data(filename):\n",
    "    \"\"\"读取单个数据集中的数据\"\"\"\n",
    "    with open(filename, 'rb') as one_file:\n",
    "        batch_data = pickle.load(one_file, encoding = \"bytes\")\n",
    "        return batch_data[b'data'], batch_data[b'labels']\n",
    "    \n",
    "# 数据读取处理\n",
    "class CIFAR10_Read:\n",
    "    def __init__(self, filenames, need_shuffle):\n",
    "        \"\"\"从文件列表中读取数据\"\"\"\n",
    "        all_data = []\n",
    "        all_labels = []\n",
    "        for filename in filenames:\n",
    "            \"\"\"将读取的数据存入数组中\"\"\"\n",
    "            data, labels = load_single_data(filename)\n",
    "            all_data.append(data)\n",
    "            all_labels.append(labels)\n",
    "        self._data = np.vstack(all_data)\n",
    "        self._data = self._data / 127.5 - 1\n",
    "        self._labels = np.hstack(all_labels)\n",
    "        print(self._data.shape, self._labels.shape)\n",
    "        self._num_examples = len(self._data)\n",
    "        self._need_shuffle  = need_shuffle\n",
    "        self._index = 0\n",
    "        if need_shuffle:\n",
    "            self.shuffle_data()\n",
    "            \n",
    "    def shuffle_data(self):\n",
    "        \"\"\"将数据进行乱序处理\"\"\"\n",
    "        p_index = np.random.permutation(self._num_examples)\n",
    "        self._data = self._data[p_index]\n",
    "        self._labels = self._labels[p_index]\n",
    "    \n",
    "    def next_batch(self, batch_size):\n",
    "        \"\"\"读取下一组数据集\"\"\"\n",
    "        if batch_size > self._num_examples:\n",
    "            raise Exception(\"batch size is larger than examples' num\")\n",
    "        end_index = self._index + batch_size\n",
    "        if end_index > self._num_examples:\n",
    "            if self._need_shuffle:\n",
    "                \"\"\"如果当前数据读取完毕，且如果可以对数据进行重排列，则重新组合数据集\"\"\"\n",
    "                self.shuffle_data()\n",
    "                self._index = 0\n",
    "                end_index = batch_size\n",
    "            else:\n",
    "                raise Exception(\"there is no more data\")\n",
    "        batch_data, batch_labels = self._data[self._index:end_index], self._labels[self._index:end_index] \n",
    "        self._index = end_index\n",
    "        return batch_data, batch_labels\n",
    "        "
   ],
   "metadata": {
    "collapsed": false,
    "pycharm": {
     "name": "#%%\n",
     "is_executing": false
    }
   }
  },
  {
   "cell_type": "code",
   "execution_count": 4,
   "outputs": [
    {
     "name": "stdout",
     "text": [
      "WARNING:tensorflow:From j:\\anacoda\\envs\\tf_2g\\lib\\site-packages\\tensorflow_core\\python\\compat\\v2_compat.py:65: disable_resource_variables (from tensorflow.python.ops.variable_scope) is deprecated and will be removed in a future version.\nInstructions for updating:\nnon-resource variables are not supported in the long term\n"
     ],
     "output_type": "stream"
    }
   ],
   "source": [
    "from tensorflow import compat as tf_compat\n",
    "tf = tf_compat.v1\n",
    "tf.disable_v2_behavior()"
   ],
   "metadata": {
    "collapsed": false,
    "pycharm": {
     "name": "#%%\n",
     "is_executing": false
    }
   }
  },
  {
   "cell_type": "markdown",
   "source": [
    "## 搭建多层神经网络的计算图"
   ],
   "metadata": {
    "collapsed": false
   }
  },
  {
   "cell_type": "code",
   "execution_count": 5,
   "outputs": [
    {
     "name": "stdout",
     "text": [
      "WARNING:tensorflow:From <ipython-input-5-241cddbf71b0>:6: dense (from tensorflow.python.layers.core) is deprecated and will be removed in a future version.\nInstructions for updating:\nUse keras.layers.Dense instead.\n",
      "WARNING:tensorflow:From j:\\anacoda\\envs\\tf_2g\\lib\\site-packages\\tensorflow_core\\python\\layers\\core.py:187: Layer.apply (from tensorflow.python.keras.engine.base_layer) is deprecated and will be removed in a future version.\nInstructions for updating:\nPlease use `layer.__call__` method instead.\n"
     ],
     "output_type": "stream"
    }
   ],
   "source": [
    "# 输入数据\n",
    "x = tf.placeholder(tf.float32, [None, 3072])\n",
    "# 输出标签\n",
    "y = tf.placeholder(tf.int64, [None])\n",
    "# 第一个隐藏层\n",
    "hidden1 = tf.layers.dense(x, 100, activation = tf.nn.relu)\n",
    "hidden2 = tf.layers.dense(hidden1, 90, activation = tf.nn.relu)\n",
    "hidden3 = tf.layers.dense(hidden2, 70, activation = tf.nn.relu)\n",
    "\n",
    "y_ = tf.layers.dense(hidden3, 10, activation = tf.nn.relu)\n",
    "# 进行概率映射\n",
    "p_y = tf.nn.softmax(y_)\n",
    "# 使用one_hot编码\n",
    "y_one_hot = tf.one_hot(y, 10, dtype = tf.float32)\n",
    "# 计算损失函数\n",
    "loss = tf.reduce_mean(tf.square(y_one_hot - p_y))\n",
    "# 从计算的结果中，获取最大值的索引作为预测的结果值\n",
    "predict = tf.argmax(y_, 1)\n",
    "# 计算平均正确率\n",
    "correct_predict = tf.equal(predict, y)\n",
    "accuracy = tf.reduce_mean(tf.cast(correct_predict, tf.float64))\n",
    "    \n",
    "with tf.name_scope('train_op'):\n",
    "    train_op = tf.train.AdamOptimizer(1e-3).minimize(loss)"
   ],
   "metadata": {
    "collapsed": false,
    "pycharm": {
     "name": "#%%\n",
     "is_executing": false
    }
   }
  },
  {
   "cell_type": "code",
   "execution_count": 6,
   "outputs": [
    {
     "name": "stdout",
     "text": [
      "['../data/cifar-10-batches-py\\\\Data_Batch_1', '../data/cifar-10-batches-py\\\\Data_Batch_2', '../data/cifar-10-batches-py\\\\Data_Batch_3', '../data/cifar-10-batches-py\\\\Data_Batch_4', '../data/cifar-10-batches-py\\\\Data_Batch_5']\n",
      "(50000, 3072) (50000,)\n",
      "Device mapping:\n/job:localhost/replica:0/task:0/device:GPU:0 -> device: 0, name: GeForce GTX 1050 Ti, pci bus id: 0000:01:00.0, compute capability: 6.1\n\n",
      "[Train] Step 500, loss: 0.08387, acc: 0.32000.\n",
      "[Train] Step 1000, loss: 0.07947, acc: 0.32000.\n",
      "[Train] Step 1500, loss: 0.06415, acc: 0.56000.\n",
      "[Train] Step 2000, loss: 0.07216, acc: 0.46000.\n",
      "(10000, 3072) (10000,)\n[Test] Step 2000, acc: 0.48150.\n",
      "[Train] Step 2500, loss: 0.06578, acc: 0.48000.\n",
      "[Train] Step 3000, loss: 0.07078, acc: 0.42000.\n",
      "[Train] Step 3500, loss: 0.06872, acc: 0.38000.\n",
      "[Train] Step 4000, loss: 0.06452, acc: 0.50000.\n",
      "(10000, 3072) (10000,)\n[Test] Step 4000, acc: 0.49500.\n",
      "[Train] Step 4500, loss: 0.06767, acc: 0.42000.\n",
      "[Train] Step 5000, loss: 0.07266, acc: 0.34000.\n",
      "[Train] Step 5500, loss: 0.05814, acc: 0.54000.\n",
      "[Train] Step 6000, loss: 0.05532, acc: 0.54000.\n",
      "(10000, 3072) (10000,)\n[Test] Step 6000, acc: 0.48650.\n",
      "[Train] Step 6500, loss: 0.05666, acc: 0.62000.\n",
      "[Train] Step 7000, loss: 0.05938, acc: 0.52000.\n",
      "[Train] Step 7500, loss: 0.05479, acc: 0.58000.\n",
      "[Train] Step 8000, loss: 0.05220, acc: 0.64000.\n",
      "(10000, 3072) (10000,)\n[Test] Step 8000, acc: 0.50500.\n",
      "[Train] Step 8500, loss: 0.05933, acc: 0.52000.\n",
      "[Train] Step 9000, loss: 0.06018, acc: 0.58000.\n",
      "[Train] Step 9500, loss: 0.04294, acc: 0.68000.\n",
      "[Train] Step 10000, loss: 0.05094, acc: 0.66000.\n",
      "(10000, 3072) (10000,)\n[Test] Step 10000, acc: 0.51000.\n",
      "[Train] Step 10500, loss: 0.05204, acc: 0.56000.\n",
      "[Train] Step 11000, loss: 0.05590, acc: 0.54000.\n",
      "[Train] Step 11500, loss: 0.05381, acc: 0.56000.\n",
      "[Train] Step 12000, loss: 0.05716, acc: 0.60000.\n",
      "(10000, 3072) (10000,)\n[Test] Step 12000, acc: 0.52800.\n",
      "[Train] Step 12500, loss: 0.05823, acc: 0.56000.\n",
      "[Train] Step 13000, loss: 0.04858, acc: 0.64000.\n",
      "[Train] Step 13500, loss: 0.03479, acc: 0.80000.\n",
      "[Train] Step 14000, loss: 0.04935, acc: 0.64000.\n",
      "(10000, 3072) (10000,)\n[Test] Step 14000, acc: 0.51150.\n",
      "[Train] Step 14500, loss: 0.05451, acc: 0.58000.\n",
      "[Train] Step 15000, loss: 0.04246, acc: 0.70000.\n",
      "[Train] Step 15500, loss: 0.06007, acc: 0.52000.\n",
      "[Train] Step 16000, loss: 0.04689, acc: 0.68000.\n",
      "(10000, 3072) (10000,)\n[Test] Step 16000, acc: 0.52300.\n",
      "[Train] Step 16500, loss: 0.04194, acc: 0.70000.\n",
      "[Train] Step 17000, loss: 0.03284, acc: 0.78000.\n",
      "[Train] Step 17500, loss: 0.04922, acc: 0.64000.\n",
      "[Train] Step 18000, loss: 0.04345, acc: 0.72000.\n",
      "(10000, 3072) (10000,)\n[Test] Step 18000, acc: 0.52600.\n",
      "[Train] Step 18500, loss: 0.03515, acc: 0.74000.\n",
      "[Train] Step 19000, loss: 0.03835, acc: 0.74000.\n",
      "[Train] Step 19500, loss: 0.04173, acc: 0.70000.\n",
      "[Train] Step 20000, loss: 0.05126, acc: 0.62000.\n",
      "(10000, 3072) (10000,)\n[Test] Step 20000, acc: 0.52000.\n",
      "[Train] Step 20500, loss: 0.04873, acc: 0.62000.\n",
      "[Train] Step 21000, loss: 0.03913, acc: 0.68000.\n",
      "[Train] Step 21500, loss: 0.06026, acc: 0.56000.\n",
      "[Train] Step 22000, loss: 0.03777, acc: 0.72000.\n",
      "(10000, 3072) (10000,)\n[Test] Step 22000, acc: 0.52250.\n",
      "[Train] Step 22500, loss: 0.04171, acc: 0.72000.\n",
      "[Train] Step 23000, loss: 0.04111, acc: 0.70000.\n",
      "[Train] Step 23500, loss: 0.03406, acc: 0.80000.\n",
      "[Train] Step 24000, loss: 0.03386, acc: 0.76000.\n",
      "(10000, 3072) (10000,)\n[Test] Step 24000, acc: 0.53200.\n",
      "[Train] Step 24500, loss: 0.03104, acc: 0.76000.\n",
      "[Train] Step 25000, loss: 0.04403, acc: 0.68000.\n",
      "[Train] Step 25500, loss: 0.04387, acc: 0.66000.\n",
      "[Train] Step 26000, loss: 0.04887, acc: 0.66000.\n",
      "(10000, 3072) (10000,)\n[Test] Step 26000, acc: 0.51700.\n",
      "[Train] Step 26500, loss: 0.04340, acc: 0.68000.\n",
      "[Train] Step 27000, loss: 0.03870, acc: 0.74000.\n",
      "[Train] Step 27500, loss: 0.03663, acc: 0.72000.\n",
      "[Train] Step 28000, loss: 0.04603, acc: 0.72000.\n",
      "(10000, 3072) (10000,)\n[Test] Step 28000, acc: 0.51750.\n",
      "[Train] Step 28500, loss: 0.04946, acc: 0.60000.\n",
      "[Train] Step 29000, loss: 0.02923, acc: 0.80000.\n",
      "[Train] Step 29500, loss: 0.03475, acc: 0.76000.\n",
      "[Train] Step 30000, loss: 0.03744, acc: 0.72000.\n",
      "(10000, 3072) (10000,)\n[Test] Step 30000, acc: 0.51350.\n",
      "[Train] Step 30500, loss: 0.04222, acc: 0.70000.\n",
      "[Train] Step 31000, loss: 0.04329, acc: 0.68000.\n",
      "[Train] Step 31500, loss: 0.03626, acc: 0.72000.\n",
      "[Train] Step 32000, loss: 0.02405, acc: 0.82000.\n",
      "(10000, 3072) (10000,)\n[Test] Step 32000, acc: 0.51200.\n",
      "[Train] Step 32500, loss: 0.02446, acc: 0.80000.\n",
      "[Train] Step 33000, loss: 0.04697, acc: 0.68000.\n",
      "[Train] Step 33500, loss: 0.03346, acc: 0.82000.\n",
      "[Train] Step 34000, loss: 0.06110, acc: 0.58000.\n",
      "(10000, 3072) (10000,)\n[Test] Step 34000, acc: 0.50250.\n",
      "[Train] Step 34500, loss: 0.03187, acc: 0.82000.\n",
      "[Train] Step 35000, loss: 0.03312, acc: 0.82000.\n",
      "[Train] Step 35500, loss: 0.03948, acc: 0.74000.\n",
      "[Train] Step 36000, loss: 0.03844, acc: 0.72000.\n",
      "(10000, 3072) (10000,)\n[Test] Step 36000, acc: 0.50800.\n",
      "[Train] Step 36500, loss: 0.02743, acc: 0.84000.\n",
      "[Train] Step 37000, loss: 0.02574, acc: 0.82000.\n",
      "[Train] Step 37500, loss: 0.03318, acc: 0.78000.\n",
      "[Train] Step 38000, loss: 0.04181, acc: 0.68000.\n",
      "(10000, 3072) (10000,)\n[Test] Step 38000, acc: 0.50700.\n",
      "[Train] Step 38500, loss: 0.02729, acc: 0.80000.\n",
      "[Train] Step 39000, loss: 0.03583, acc: 0.80000.\n",
      "[Train] Step 39500, loss: 0.03101, acc: 0.80000.\n",
      "[Train] Step 40000, loss: 0.02952, acc: 0.82000.\n",
      "(10000, 3072) (10000,)\n[Test] Step 40000, acc: 0.51250.\n",
      "[Train] Step 40500, loss: 0.02929, acc: 0.80000.\n",
      "[Train] Step 41000, loss: 0.03431, acc: 0.78000.\n",
      "[Train] Step 41500, loss: 0.02523, acc: 0.82000.\n",
      "[Train] Step 42000, loss: 0.02759, acc: 0.78000.\n",
      "(10000, 3072) (10000,)\n[Test] Step 42000, acc: 0.50750.\n",
      "[Train] Step 42500, loss: 0.03619, acc: 0.76000.\n",
      "[Train] Step 43000, loss: 0.02700, acc: 0.80000.\n",
      "[Train] Step 43500, loss: 0.03126, acc: 0.82000.\n",
      "[Train] Step 44000, loss: 0.03491, acc: 0.80000.\n",
      "(10000, 3072) (10000,)\n[Test] Step 44000, acc: 0.51400.\n",
      "[Train] Step 44500, loss: 0.03319, acc: 0.78000.\n",
      "[Train] Step 45000, loss: 0.02196, acc: 0.84000.\n",
      "[Train] Step 45500, loss: 0.03509, acc: 0.78000.\n",
      "[Train] Step 46000, loss: 0.03956, acc: 0.76000.\n",
      "(10000, 3072) (10000,)\n[Test] Step 46000, acc: 0.50850.\n",
      "[Train] Step 46500, loss: 0.03379, acc: 0.74000.\n",
      "[Train] Step 47000, loss: 0.03590, acc: 0.78000.\n",
      "[Train] Step 47500, loss: 0.04537, acc: 0.70000.\n",
      "[Train] Step 48000, loss: 0.01789, acc: 0.90000.\n",
      "(10000, 3072) (10000,)\n[Test] Step 48000, acc: 0.50800.\n",
      "[Train] Step 48500, loss: 0.02569, acc: 0.84000.\n",
      "[Train] Step 49000, loss: 0.02491, acc: 0.84000.\n",
      "[Train] Step 49500, loss: 0.01665, acc: 0.88000.\n",
      "[Train] Step 50000, loss: 0.03978, acc: 0.70000.\n",
      "(10000, 3072) (10000,)\n[Test] Step 50000, acc: 0.50900.\n"
     ],
     "output_type": "stream"
    }
   ],
   "source": [
    "initializer =  tf.global_variables_initializer()\n",
    "batch_steps = 50000\n",
    "batch_size = 50\n",
    "test_steps = int(2000 / batch_size)\n",
    "train_filenames = [os.path.join(CIFAR_DIR, \"Data_Batch_%d\" % i) for i in range(1,6)]\n",
    "test_filenames = [os.path.join(CIFAR_DIR, \"Test_Batch\")]\n",
    "print(train_filenames)\n",
    "train_data_reader = CIFAR10_Read(train_filenames, True)\n",
    "def print_log(step,  acc, current_loss_val = None, is_test = False):\n",
    "    if is_test:\n",
    "        print(\"[Test] Step %d, acc: %4.5f.\" %(step, acc))\n",
    "    else:\n",
    "        print(\"[Train] Step %d, loss: %4.5f, acc: %4.5f.\" %(step, current_loss_val, acc))\n",
    "        \n",
    "    \n",
    "with tf.Session(config=tf.ConfigProto(log_device_placement=True)) as sess:\n",
    "# 初始化所有的变量数据\n",
    "    sess.run(initializer)\n",
    "    for one_train_step in range(batch_steps):\n",
    "        one_batch_data, one_batch_labels = train_data_reader.next_batch(batch_size)\n",
    "        loss_val, acc_val, _ = sess.run([loss, accuracy, train_op],\n",
    "                                        feed_dict={\n",
    "                                            x: one_batch_data,\n",
    "                                            y: one_batch_labels\n",
    "                                        })\n",
    "        if (one_train_step + 1) % 500 == 0:\n",
    "            print_log(step = one_train_step+1, acc = acc_val, current_loss_val = loss_val)\n",
    "        if (one_train_step + 1) % 2000 == 0:\n",
    "            test_data = CIFAR10_Read(test_filenames, False)\n",
    "            one_test_mean_acc=[]\n",
    "            one_test_mean_loss =[]\n",
    "            for one_test_step in range(test_steps):\n",
    "                one_test_batch_data, one_test_batch_labels = test_data.next_batch(batch_size)\n",
    "                test_acc_val = sess.run(\n",
    "                    [accuracy],\n",
    "                    feed_dict={\n",
    "                        x: one_test_batch_data,\n",
    "                        y: one_test_batch_labels\n",
    "                    }\n",
    "                )\n",
    "                one_test_mean_acc.append(test_acc_val)\n",
    "            print_log(step = one_train_step + 1, acc = np.mean(one_test_mean_acc), is_test=True)\n",
    "            \n",
    "    \n",
    "        \n",
    "    \n",
    "    "
   ],
   "metadata": {
    "collapsed": false,
    "pycharm": {
     "name": "#%%\n",
     "is_executing": false
    }
   }
  },
  {
   "cell_type": "code",
   "execution_count": 6,
   "outputs": [],
   "source": [],
   "metadata": {
    "collapsed": false,
    "pycharm": {
     "name": "#%%\n",
     "is_executing": false
    }
   }
  }
 ],
 "metadata": {
  "kernelspec": {
   "display_name": "Python 3",
   "language": "python",
   "name": "python3"
  },
  "language_info": {
   "codemirror_mode": {
    "name": "ipython",
    "version": 2
   },
   "file_extension": ".py",
   "mimetype": "text/x-python",
   "name": "python",
   "nbconvert_exporter": "python",
   "pygments_lexer": "ipython2",
   "version": "2.7.6"
  },
  "pycharm": {
   "stem_cell": {
    "cell_type": "raw",
    "source": [],
    "metadata": {
     "collapsed": false
    }
   }
  }
 },
 "nbformat": 4,
 "nbformat_minor": 0
}