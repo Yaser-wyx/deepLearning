{
 "cells": [
  {
   "cell_type": "markdown",
   "source": [
    "## 搭建VGGNet"
   ],
   "metadata": {
    "collapsed": false
   }
  },
  {
   "cell_type": "code",
   "execution_count": 1,
   "outputs": [],
   "source": [
    "import pickle\n",
    "import os\n",
    "import numpy as np\n",
    "CIFAR_DIR = \"../data/cifar-10-batches-py\""
   ],
   "metadata": {
    "collapsed": false,
    "pycharm": {
     "name": "#%%\n",
     "is_executing": false
    }
   }
  },
  {
   "cell_type": "code",
   "execution_count": 2,
   "outputs": [
    {
     "name": "stdout",
     "text": [
      "Batches.Meta\nData_Batch_1\nData_Batch_2\nData_Batch_3\nData_Batch_4\nData_Batch_5\nReadme.Html\nTest_Batch\n../data/cifar-10-batches-py\\Data_Batch_1\n"
     ],
     "output_type": "stream"
    }
   ],
   "source": [
    "for file in os.listdir(CIFAR_DIR):\n",
    "    print(file.title())\n",
    "print(os.path.join(CIFAR_DIR,os.listdir(CIFAR_DIR)[1].title()))"
   ],
   "metadata": {
    "collapsed": false,
    "pycharm": {
     "name": "#%%\n",
     "is_executing": false
    }
   }
  },
  {
   "cell_type": "code",
   "execution_count": 3,
   "outputs": [],
   "source": [
    "def load_single_data(filename):\n",
    "    \"\"\"读取单个数据集中的数据\"\"\"\n",
    "    with open(filename, 'rb') as one_file:\n",
    "        batch_data = pickle.load(one_file, encoding = \"bytes\")\n",
    "        return batch_data[b'data'], batch_data[b'labels']\n",
    "    \n",
    "# 数据读取处理\n",
    "class CIFAR10_Read:\n",
    "    def __init__(self, filenames, need_shuffle):\n",
    "        \"\"\"从文件列表中读取数据\"\"\"\n",
    "        all_data = []\n",
    "        all_labels = []\n",
    "        for filename in filenames:\n",
    "            \"\"\"将读取的数据存入数组中\"\"\"\n",
    "            data, labels = load_single_data(filename)\n",
    "            all_data.append(data)\n",
    "            all_labels.append(labels)\n",
    "        self._data = np.vstack(all_data)\n",
    "        self._data = self._data / 127.5 - 1\n",
    "        self._labels = np.hstack(all_labels)\n",
    "        print(self._data.shape, self._labels.shape)\n",
    "        self._num_examples = len(self._data)\n",
    "        self._need_shuffle  = need_shuffle\n",
    "        self._index = 0\n",
    "        if need_shuffle:\n",
    "            self.shuffle_data()\n",
    "            \n",
    "    def shuffle_data(self):\n",
    "        \"\"\"将数据进行乱序处理\"\"\"\n",
    "        p_index = np.random.permutation(self._num_examples)\n",
    "        self._data = self._data[p_index]\n",
    "        self._labels = self._labels[p_index]\n",
    "    \n",
    "    def next_batch(self, batch_size):\n",
    "        \"\"\"读取下一组数据集\"\"\"\n",
    "        if batch_size > self._num_examples:\n",
    "            raise Exception(\"batch size is larger than examples' num\")\n",
    "        end_index = self._index + batch_size\n",
    "        if end_index > self._num_examples:\n",
    "            if self._need_shuffle:\n",
    "                \"\"\"如果当前数据读取完毕，且如果可以对数据进行重排列，则重新组合数据集\"\"\"\n",
    "                self.shuffle_data()\n",
    "                self._index = 0\n",
    "                end_index = batch_size\n",
    "            else:\n",
    "                raise Exception(\"there is no more data\")\n",
    "        batch_data, batch_labels = self._data[self._index:end_index], self._labels[self._index:end_index] \n",
    "        self._index = end_index\n",
    "        return batch_data, batch_labels\n",
    "        "
   ],
   "metadata": {
    "collapsed": false,
    "pycharm": {
     "name": "#%%\n",
     "is_executing": false
    }
   }
  },
  {
   "cell_type": "code",
   "execution_count": 4,
   "outputs": [
    {
     "name": "stderr",
     "text": [
      "f:\\anaconda\\envs\\tf_2g\\lib\\site-packages\\h5py\\__init__.py:36: FutureWarning: Conversion of the second argument of issubdtype from `float` to `np.floating` is deprecated. In future, it will be treated as `np.float64 == np.dtype(float).type`.\n  from ._conv import register_converters as _register_converters\n"
     ],
     "output_type": "stream"
    },
    {
     "name": "stdout",
     "text": [
      "WARNING:tensorflow:From f:\\anaconda\\envs\\tf_2g\\lib\\site-packages\\tensorflow_core\\python\\compat\\v2_compat.py:65: disable_resource_variables (from tensorflow.python.ops.variable_scope) is deprecated and will be removed in a future version.\nInstructions for updating:\nnon-resource variables are not supported in the long term\n"
     ],
     "output_type": "stream"
    }
   ],
   "source": [
    "from tensorflow import compat as tf_compat\n",
    "tf = tf_compat.v1\n",
    "tf.disable_v2_behavior()"
   ],
   "metadata": {
    "collapsed": false,
    "pycharm": {
     "name": "#%%\n",
     "is_executing": false
    }
   }
  },
  {
   "cell_type": "markdown",
   "source": [
    "## 搭建VGGNet的计算图"
   ],
   "metadata": {
    "collapsed": false
   }
  },
  {
   "cell_type": "code",
   "execution_count": 5,
   "outputs": [
    {
     "name": "stdout",
     "text": [
      "WARNING:tensorflow:From <ipython-input-5-3591daed6389>:16: conv2d (from tensorflow.python.layers.convolutional) is deprecated and will be removed in a future version.\nInstructions for updating:\nUse `tf.keras.layers.Conv2D` instead.\n",
      "WARNING:tensorflow:From f:\\anaconda\\envs\\tf_2g\\lib\\site-packages\\tensorflow_core\\python\\layers\\convolutional.py:424: Layer.apply (from tensorflow.python.keras.engine.base_layer) is deprecated and will be removed in a future version.\nInstructions for updating:\nPlease use `layer.__call__` method instead.\n",
      "WARNING:tensorflow:From <ipython-input-5-3591daed6389>:27: max_pooling2d (from tensorflow.python.layers.pooling) is deprecated and will be removed in a future version.\nInstructions for updating:\nUse keras.layers.MaxPooling2D instead.\n",
      "WARNING:tensorflow:From <ipython-input-5-3591daed6389>:126: flatten (from tensorflow.python.layers.core) is deprecated and will be removed in a future version.\nInstructions for updating:\nUse keras.layers.flatten instead.\n",
      "WARNING:tensorflow:From <ipython-input-5-3591daed6389>:127: dense (from tensorflow.python.layers.core) is deprecated and will be removed in a future version.\nInstructions for updating:\nUse keras.layers.Dense instead.\n"
     ],
     "output_type": "stream"
    }
   ],
   "source": [
    "# 输入数据\n",
    "x = tf.placeholder(tf.float32, [None, 3072])\n",
    "# 输出标签\n",
    "y = tf.placeholder(tf.int64, [None])\n",
    "# 将一维数据转为三维数据\n",
    "x_image = tf.reshape(x, [-1, 3, 32, 32])\n",
    "# 将原始图像的维度进行转换，即转置\n",
    "x_image = tf.transpose(x_image, perm = [0, 2, 3, 1])\n",
    "\n",
    "#第一个卷积层\n",
    "conv1_1 = tf.layers.conv2d(x_image, # 输入数据 \n",
    "                         32,    # 卷积核数目，即特征数 \n",
    "                         (3,3),  # 卷积核大小\n",
    "                         padding = 'same',\n",
    "                         activation = tf.nn.relu,\n",
    "                         name = 'conv1_1')\n",
    "conv1_2 = tf.layers.conv2d(conv1_1, # 输入数据 \n",
    "                         32,    # 卷积核数目，即特征数 \n",
    "                         (3,3),  # 卷积核大小\n",
    "                         padding = 'same',\n",
    "                         activation = tf.nn.relu,\n",
    "                         name = 'conv1_2')\n",
    "# 池化层\n",
    "pooling1 = tf.layers.max_pooling2d(conv1_2,\n",
    "                                   (2, 2), # kernel size\n",
    "                                   (2, 2), # stride(步长)\n",
    "                                   name =  \"pool1\")\n",
    "# ================================================================\n",
    "# 第二个卷积层\n",
    "conv2_1 = tf.layers.conv2d(pooling1, # 输入数据 \n",
    "                         64,    # 卷积核数目，即特征数 \n",
    "                         (3,3),  # 卷积核大小\n",
    "                         padding = 'same',\n",
    "                         activation = tf.nn.relu,\n",
    "                         name = 'conv2_1')\n",
    "conv2_2 = tf.layers.conv2d(conv2_1, # 输入数据 \n",
    "                         64,    # 卷积核数目，即特征数 \n",
    "                         (3,3),  # 卷积核大小\n",
    "                         padding = 'same',\n",
    "                         activation = tf.nn.relu,\n",
    "                         name = 'conv2_2')\n",
    "# 池化层\n",
    "pooling2 = tf.layers.max_pooling2d(conv2_2,\n",
    "                                   (2, 2), # kernel size\n",
    "                                   (2, 2), # stride(步长)\n",
    "                                   name =  \"pool2\")\n",
    "# ================================================================\n",
    "\n",
    "# 第三个卷积层\n",
    "conv3_1 = tf.layers.conv2d(pooling2, # 输入数据 \n",
    "                         128,    # 卷积核数目，即特征数 \n",
    "                         (3,3),  # 卷积核大小\n",
    "                         padding = 'same',\n",
    "                         activation = tf.nn.relu,\n",
    "                         name = 'conv3_1')\n",
    "conv3_2 = tf.layers.conv2d(conv3_1, # 输入数据 \n",
    "                         128,    # 卷积核数目，即特征数 \n",
    "                         (3,3),  # 卷积核大小\n",
    "                         padding = 'same',\n",
    "                         activation = tf.nn.relu,\n",
    "                         name = 'conv3_2')\n",
    "conv3_3 = tf.layers.conv2d(conv3_2, # 输入数据 \n",
    "                         128,    # 卷积核数目，即特征数 \n",
    "                         (1,1),  # 卷积核大小\n",
    "                         padding = 'same',\n",
    "                         activation = tf.nn.relu,\n",
    "                         name = 'conv3_3')\n",
    "# 池化层\n",
    "pooling3 = tf.layers.max_pooling2d(conv3_3,\n",
    "                                   (2, 2), # kernel size\n",
    "                                   (2, 2), # stride(步长)\n",
    "                                   name =  \"pool3\")\n",
    "# ================================================================\n",
    "\n",
    "# 第四个卷积层\n",
    "conv4_1 = tf.layers.conv2d(pooling3, # 输入数据 \n",
    "                         256,    # 卷积核数目，即特征数 \n",
    "                         (3,3),  # 卷积核大小\n",
    "                         padding = 'same',\n",
    "                         activation = tf.nn.relu,\n",
    "                         name = 'conv4_1')\n",
    "conv4_2 = tf.layers.conv2d(conv4_1, # 输入数据 \n",
    "                         256,    # 卷积核数目，即特征数 \n",
    "                         (3,3),  # 卷积核大小\n",
    "                         padding = 'same',\n",
    "                         activation = tf.nn.relu,\n",
    "                         name = 'conv4_2')\n",
    "conv4_3 = tf.layers.conv2d(conv4_2, # 输入数据 \n",
    "                         256,    # 卷积核数目，即特征数 \n",
    "                         (1,1),  # 卷积核大小\n",
    "                         padding = 'same',\n",
    "                         activation = tf.nn.relu,\n",
    "                         name = 'conv4_3')\n",
    "# 池化层\n",
    "pooling4 = tf.layers.max_pooling2d(conv4_3,\n",
    "                                   (2, 2), # kernel size\n",
    "                                   (2, 2), # stride(步长)\n",
    "                                   name =  \"pool4\")\n",
    "# ================================================================\n",
    "\n",
    "# 第五个卷积层\n",
    "conv5_1 = tf.layers.conv2d(pooling4,\n",
    "                           256,\n",
    "                           (3, 3),\n",
    "                           padding = 'same',\n",
    "                           activation = tf.nn.relu,\n",
    "                           name = 'conv5_1')\n",
    "conv5_2 = tf.layers.conv2d(conv5_1,\n",
    "                           256,\n",
    "                           (3, 3),\n",
    "                           padding = 'same',\n",
    "                           activation = tf.nn.relu,\n",
    "                           name = 'conv5_2')\n",
    "conv5_3 = tf.layers.conv2d(conv5_2, # 输入数据 \n",
    "                         256,    # 卷积核数目，即特征数 \n",
    "                         (1,1),  # 卷积核大小\n",
    "                         padding = 'same',\n",
    "                         activation = tf.nn.relu,\n",
    "                         name = 'conv5_3')\n",
    "# 池化层\n",
    "pooling5 = tf.layers.max_pooling2d(conv5_3,\n",
    "                                   (2, 2), # kernel size\n",
    "                                   (2, 2), # stride(步长)\n",
    "                                   name =  \"pool5\")\n",
    "\n",
    "flatten = tf.layers.flatten(pooling3)\n",
    "y_ = tf.layers.dense(flatten, 10)\n",
    "# loss = tf.losses.sparse_softmax_cross_entropy(labels = y, logits = y_)\n",
    "# 进行概率映射\n",
    "p_y = tf.nn.softmax(y_)\n",
    "# 使用one_hot编码\n",
    "y_one_hot = tf.one_hot(y, 10, dtype = tf.float32)\n",
    "# 计算损失函数\n",
    "loss = tf.reduce_mean(tf.square(y_one_hot - p_y))\n",
    "# 从计算的结果中，获取最大值的索引作为预测的结果值\n",
    "predict = tf.argmax(y_, 1)\n",
    "# 计算平均正确率\n",
    "correct_predict = tf.equal(predict, y)\n",
    "accuracy = tf.reduce_mean(tf.cast(correct_predict, tf.float64))\n",
    "    \n",
    "with tf.name_scope('train_op'):\n",
    "    train_op = tf.train.AdamOptimizer(1e-3).minimize(loss)"
   ],
   "metadata": {
    "collapsed": false,
    "pycharm": {
     "name": "#%%\n",
     "is_executing": false
    }
   }
  },
  {
   "cell_type": "code",
   "execution_count": 7,
   "outputs": [
    {
     "name": "stdout",
     "text": [
      "['../data/cifar-10-batches-py\\\\Data_Batch_1', '../data/cifar-10-batches-py\\\\Data_Batch_2', '../data/cifar-10-batches-py\\\\Data_Batch_3', '../data/cifar-10-batches-py\\\\Data_Batch_4', '../data/cifar-10-batches-py\\\\Data_Batch_5']\n",
      "(50000, 3072) (50000,)\n",
      "Device mapping:\n/job:localhost/replica:0/task:0/device:GPU:0 -> device: 0, name: GeForce GTX 1050 Ti, pci bus id: 0000:01:00.0, compute capability: 6.1\n\n",
      "[Train] Step 500, loss: 0.07219, acc: 0.36000.\n",
      "[Train] Step 1000, loss: 0.05637, acc: 0.56000.\n",
      "[Train] Step 1500, loss: 0.03865, acc: 0.74000.\n",
      "[Train] Step 2000, loss: 0.04410, acc: 0.62000.\n",
      "(10000, 3072) (10000,)\n",
      "[Test] Step 2000, acc: 0.69050.\n",
      "[Train] Step 2500, loss: 0.02631, acc: 0.82000.\n",
      "[Train] Step 3000, loss: 0.03557, acc: 0.74000.\n",
      "[Train] Step 3500, loss: 0.03159, acc: 0.74000.\n",
      "[Train] Step 4000, loss: 0.03970, acc: 0.72000.\n",
      "(10000, 3072) (10000,)\n[Test] Step 4000, acc: 0.75200.\n",
      "[Train] Step 4500, loss: 0.03007, acc: 0.78000.\n",
      "[Train] Step 5000, loss: 0.03822, acc: 0.70000.\n",
      "[Train] Step 5500, loss: 0.02279, acc: 0.82000.\n",
      "[Train] Step 6000, loss: 0.03769, acc: 0.76000.\n",
      "(10000, 3072) (10000,)\n[Test] Step 6000, acc: 0.76750.\n",
      "[Train] Step 6500, loss: 0.04188, acc: 0.70000.\n",
      "[Train] Step 7000, loss: 0.01814, acc: 0.88000.\n",
      "[Train] Step 7500, loss: 0.01221, acc: 0.94000.\n",
      "[Train] Step 8000, loss: 0.03530, acc: 0.78000.\n",
      "(10000, 3072) (10000,)\n[Test] Step 8000, acc: 0.77850.\n",
      "[Train] Step 8500, loss: 0.02038, acc: 0.84000.\n",
      "[Train] Step 9000, loss: 0.01217, acc: 0.88000.\n",
      "[Train] Step 9500, loss: 0.01475, acc: 0.88000.\n",
      "[Train] Step 10000, loss: 0.01053, acc: 0.94000.\n",
      "(10000, 3072) (10000,)\n",
      "[Test] Step 10000, acc: 0.77450.\n",
      "[Train] Step 10500, loss: 0.01964, acc: 0.84000.\n",
      "[Train] Step 11000, loss: 0.01777, acc: 0.88000.\n",
      "[Train] Step 11500, loss: 0.02185, acc: 0.86000.\n",
      "[Train] Step 12000, loss: 0.02586, acc: 0.86000.\n",
      "(10000, 3072) (10000,)\n[Test] Step 12000, acc: 0.77600.\n",
      "[Train] Step 12500, loss: 0.02281, acc: 0.88000.\n",
      "[Train] Step 13000, loss: 0.01038, acc: 0.94000.\n",
      "[Train] Step 13500, loss: 0.00793, acc: 0.94000.\n",
      "[Train] Step 14000, loss: 0.02504, acc: 0.84000.\n",
      "(10000, 3072) (10000,)\n[Test] Step 14000, acc: 0.76100.\n",
      "[Train] Step 14500, loss: 0.01463, acc: 0.92000.\n",
      "[Train] Step 15000, loss: 0.01026, acc: 0.92000.\n",
      "[Train] Step 15500, loss: 0.01955, acc: 0.88000.\n",
      "[Train] Step 16000, loss: 0.02055, acc: 0.86000.\n",
      "(10000, 3072) (10000,)\n",
      "[Test] Step 16000, acc: 0.78350.\n",
      "[Train] Step 16500, loss: 0.00444, acc: 0.96000.\n",
      "[Train] Step 17000, loss: 0.01571, acc: 0.92000.\n",
      "[Train] Step 17500, loss: 0.02701, acc: 0.84000.\n",
      "[Train] Step 18000, loss: 0.00568, acc: 0.98000.\n",
      "(10000, 3072) (10000,)\n",
      "[Test] Step 18000, acc: 0.76950.\n",
      "[Train] Step 18500, loss: 0.02319, acc: 0.84000.\n",
      "[Train] Step 19000, loss: 0.02159, acc: 0.86000.\n",
      "[Train] Step 19500, loss: 0.01880, acc: 0.88000.\n",
      "[Train] Step 20000, loss: 0.02179, acc: 0.88000.\n",
      "(10000, 3072) (10000,)\n[Test] Step 20000, acc: 0.77950.",
      "\n"
     ],
     "output_type": "stream"
    }
   ],
   "source": [
    "initializer =  tf.global_variables_initializer()\n",
    "batch_steps = 20000\n",
    "batch_size = 50\n",
    "test_steps = int(2000 / batch_size)\n",
    "train_filenames = [os.path.join(CIFAR_DIR, \"Data_Batch_%d\" % i) for i in range(1,6)]\n",
    "test_filenames = [os.path.join(CIFAR_DIR, \"Test_Batch\")]\n",
    "print(train_filenames)\n",
    "train_data_reader = CIFAR10_Read(train_filenames, True)\n",
    "def print_log(step,  acc, current_loss_val = None, is_test = False):\n",
    "    if is_test:\n",
    "        print(\"[Test] Step %d, acc: %4.5f.\" %(step, acc))\n",
    "    else:\n",
    "        print(\"[Train] Step %d, loss: %4.5f, acc: %4.5f.\" %(step, current_loss_val, acc))\n",
    "        \n",
    "    \n",
    "with tf.Session(config=tf.ConfigProto(log_device_placement=True)) as sess:\n",
    "# 初始化所有的变量数据\n",
    "    sess.run(initializer)\n",
    "    for one_train_step in range(batch_steps):\n",
    "        one_batch_data, one_batch_labels = train_data_reader.next_batch(batch_size)\n",
    "        loss_val, acc_val, _ = sess.run([loss, accuracy, train_op],\n",
    "                                        feed_dict={\n",
    "                                            x: one_batch_data,\n",
    "                                            y: one_batch_labels\n",
    "                                        })\n",
    "        if (one_train_step + 1) % 500 == 0:\n",
    "            print_log(step = one_train_step+1, acc = acc_val, current_loss_val = loss_val)\n",
    "        if (one_train_step + 1) % 2000 == 0:\n",
    "            test_data = CIFAR10_Read(test_filenames, False)\n",
    "            one_test_mean_acc=[]\n",
    "            one_test_mean_loss =[]\n",
    "            for one_test_step in range(test_steps):\n",
    "                one_test_batch_data, one_test_batch_labels = test_data.next_batch(batch_size)\n",
    "                test_acc_val = sess.run(\n",
    "                    [accuracy],\n",
    "                    feed_dict={\n",
    "                        x: one_test_batch_data,\n",
    "                        y: one_test_batch_labels\n",
    "                    }\n",
    "                )\n",
    "                one_test_mean_acc.append(test_acc_val)\n",
    "            print_log(step = one_train_step + 1, acc = np.mean(one_test_mean_acc), is_test=True)"
   ],
   "metadata": {
    "collapsed": false,
    "pycharm": {
     "name": "#%%\n",
     "is_executing": false
    }
   }
  },
  {
   "cell_type": "code",
   "execution_count": 6,
   "outputs": [],
   "source": [
    "\n",
    "\n"
   ],
   "metadata": {
    "collapsed": false,
    "pycharm": {
     "name": "#%%\n",
     "is_executing": false
    }
   }
  }
 ],
 "metadata": {
  "kernelspec": {
   "display_name": "Python 3",
   "language": "python",
   "name": "python3"
  },
  "language_info": {
   "codemirror_mode": {
    "name": "ipython",
    "version": 2
   },
   "file_extension": ".py",
   "mimetype": "text/x-python",
   "name": "python",
   "nbconvert_exporter": "python",
   "pygments_lexer": "ipython2",
   "version": "2.7.6"
  },
  "pycharm": {
   "stem_cell": {
    "cell_type": "raw",
    "source": [],
    "metadata": {
     "collapsed": false
    }
   }
  }
 },
 "nbformat": 4,
 "nbformat_minor": 0
}