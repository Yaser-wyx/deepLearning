{
 "cells": [
  {
   "cell_type": "markdown",
   "source": [
    "## 搭建InceptionNet"
   ],
   "metadata": {
    "collapsed": false
   }
  },
  {
   "cell_type": "code",
   "execution_count": 1,
   "outputs": [],
   "source": [
    "import pickle\n",
    "import os\n",
    "import numpy as np\n",
    "CIFAR_DIR = \"../data/cifar-10-batches-py\""
   ],
   "metadata": {
    "collapsed": false,
    "pycharm": {
     "name": "#%%\n",
     "is_executing": false
    }
   }
  },
  {
   "cell_type": "code",
   "execution_count": 2,
   "outputs": [
    {
     "name": "stdout",
     "text": [
      "Batches.Meta\nData_Batch_1\nData_Batch_2\nData_Batch_3\nData_Batch_4\nData_Batch_5\nReadme.Html\nTest_Batch\n../data/cifar-10-batches-py\\Data_Batch_1\n"
     ],
     "output_type": "stream"
    }
   ],
   "source": [
    "for file in os.listdir(CIFAR_DIR):\n",
    "    print(file.title())\n",
    "print(os.path.join(CIFAR_DIR,os.listdir(CIFAR_DIR)[1].title()))"
   ],
   "metadata": {
    "collapsed": false,
    "pycharm": {
     "name": "#%%\n",
     "is_executing": false
    }
   }
  },
  {
   "cell_type": "code",
   "execution_count": 3,
   "outputs": [],
   "source": [
    "def load_single_data(filename):\n",
    "    \"\"\"读取单个数据集中的数据\"\"\"\n",
    "    with open(filename, 'rb') as one_file:\n",
    "        batch_data = pickle.load(one_file, encoding = \"bytes\")\n",
    "        return batch_data[b'data'], batch_data[b'labels']\n",
    "    \n",
    "# 数据读取处理\n",
    "class CIFAR10_Read:\n",
    "    def __init__(self, filenames, need_shuffle):\n",
    "        \"\"\"从文件列表中读取数据\"\"\"\n",
    "        all_data = []\n",
    "        all_labels = []\n",
    "        for filename in filenames:\n",
    "            \"\"\"将读取的数据存入数组中\"\"\"\n",
    "            data, labels = load_single_data(filename)\n",
    "            all_data.append(data)\n",
    "            all_labels.append(labels)\n",
    "        self._data = np.vstack(all_data)\n",
    "        self._data = self._data / 127.5 - 1\n",
    "        self._labels = np.hstack(all_labels)\n",
    "        print(self._data.shape, self._labels.shape)\n",
    "        self._num_examples = len(self._data)\n",
    "        self._need_shuffle  = need_shuffle\n",
    "        self._index = 0\n",
    "        if need_shuffle:\n",
    "            self.shuffle_data()\n",
    "            \n",
    "    def shuffle_data(self):\n",
    "        \"\"\"将数据进行乱序处理\"\"\"\n",
    "        p_index = np.random.permutation(self._num_examples)\n",
    "        self._data = self._data[p_index]\n",
    "        self._labels = self._labels[p_index]\n",
    "    \n",
    "    def next_batch(self, batch_size):\n",
    "        \"\"\"读取下一组数据集\"\"\"\n",
    "        if batch_size > self._num_examples:\n",
    "            raise Exception(\"batch size is larger than examples' num\")\n",
    "        end_index = self._index + batch_size\n",
    "        if end_index > self._num_examples:\n",
    "            if self._need_shuffle:\n",
    "                \"\"\"如果当前数据读取完毕，且如果可以对数据进行重排列，则重新组合数据集\"\"\"\n",
    "                self.shuffle_data()\n",
    "                self._index = 0\n",
    "                end_index = batch_size\n",
    "            else:\n",
    "                raise Exception(\"there is no more data\")\n",
    "        batch_data, batch_labels = self._data[self._index:end_index], self._labels[self._index:end_index] \n",
    "        self._index = end_index\n",
    "        return batch_data, batch_labels\n",
    "        "
   ],
   "metadata": {
    "collapsed": false,
    "pycharm": {
     "name": "#%%\n",
     "is_executing": false
    }
   }
  },
  {
   "cell_type": "code",
   "execution_count": 4,
   "outputs": [
    {
     "name": "stderr",
     "text": [
      "f:\\anaconda\\envs\\tf_2g\\lib\\site-packages\\h5py\\__init__.py:36: FutureWarning: Conversion of the second argument of issubdtype from `float` to `np.floating` is deprecated. In future, it will be treated as `np.float64 == np.dtype(float).type`.\n  from ._conv import register_converters as _register_converters\n"
     ],
     "output_type": "stream"
    },
    {
     "name": "stdout",
     "text": [
      "WARNING:tensorflow:From f:\\anaconda\\envs\\tf_2g\\lib\\site-packages\\tensorflow_core\\python\\compat\\v2_compat.py:65: disable_resource_variables (from tensorflow.python.ops.variable_scope) is deprecated and will be removed in a future version.\nInstructions for updating:\nnon-resource variables are not supported in the long term\n"
     ],
     "output_type": "stream"
    }
   ],
   "source": [
    "from tensorflow import compat as tf_compat\n",
    "tf = tf_compat.v1\n",
    "tf.disable_v2_behavior()"
   ],
   "metadata": {
    "collapsed": false,
    "pycharm": {
     "name": "#%%\n",
     "is_executing": false
    }
   }
  },
  {
   "cell_type": "markdown",
   "source": [
    "## 搭建InceptionNet的计算图"
   ],
   "metadata": {
    "collapsed": false
   }
  },
  {
   "cell_type": "code",
   "execution_count": 5,
   "outputs": [],
   "source": [
    "# 单层的inception结构块\n",
    "def inception_block(input_data, output_channels, name):\n",
    "    with tf.variable_scope(name):\n",
    "        conv1_1= tf.layers.conv2d(input_data,\n",
    "                                  output_channels[0],\n",
    "                                  (1, 1),\n",
    "                                  strides = (1, 1),\n",
    "                                  padding = \"same\",\n",
    "                                  activation = tf.nn.relu,\n",
    "                                  name = \"conv1_1\")\n",
    "        \n",
    "        conv3_3= tf.layers.conv2d(input_data,\n",
    "                                  output_channels[1],\n",
    "                                  (3, 3),\n",
    "                                  strides = (1, 1),\n",
    "                                  padding = \"same\",\n",
    "                                  activation = tf.nn.relu,\n",
    "                                  name = \"conv3_3\")\n",
    "        \n",
    "        conv5_5= tf.layers.conv2d(input_data,\n",
    "                                  output_channels[0],\n",
    "                                  (5, 5),\n",
    "                                  strides = (1, 1),\n",
    "                                  padding = \"same\",\n",
    "                                  activation = tf.nn.relu,\n",
    "                                  name = \"conv5_5\")\n",
    "        \n",
    "        max_pooling = tf.layers.max_pooling2d(input_data,\n",
    "                                              (2, 2),\n",
    "                                              (2, 2),\n",
    "                                              name = \"max_pooling\")\n",
    "    # 获取池化后的shape，进行padding操作\n",
    "    pooled_shape = max_pooling.get_shape().as_list()[1:]\n",
    "    input_shape = input_data.get_shape().as_list()[1:]\n",
    "    width_pad = (input_shape[0] - pooled_shape[0]) // 2\n",
    "    height_pad = (input_shape[1] - pooled_shape[1]) // 2\n",
    "    padded_pool = tf.pad(max_pooling,\n",
    "                         [[0, 0],\n",
    "                          [width_pad, width_pad],\n",
    "                          [height_pad, height_pad],\n",
    "                          [0, 0]])\n",
    "    next_layer = tf.concat([conv1_1, conv3_3, conv5_5, padded_pool],\n",
    "                           axis = 3)\n",
    "    return next_layer"
   ],
   "metadata": {
    "collapsed": false,
    "pycharm": {
     "name": "#%%\n",
     "is_executing": false
    }
   }
  },
  {
   "cell_type": "code",
   "execution_count": 6,
   "outputs": [
    {
     "name": "stdout",
     "text": [
      "WARNING:tensorflow:From <ipython-input-6-042ecda63d7a>:15: conv2d (from tensorflow.python.layers.convolutional) is deprecated and will be removed in a future version.\nInstructions for updating:\nUse `tf.keras.layers.Conv2D` instead.\n",
      "WARNING:tensorflow:From f:\\anaconda\\envs\\tf_2g\\lib\\site-packages\\tensorflow_core\\python\\layers\\convolutional.py:424: Layer.apply (from tensorflow.python.keras.engine.base_layer) is deprecated and will be removed in a future version.\nInstructions for updating:\nPlease use `layer.__call__` method instead.\n",
      "WARNING:tensorflow:From <ipython-input-6-042ecda63d7a>:20: max_pooling2d (from tensorflow.python.layers.pooling) is deprecated and will be removed in a future version.\nInstructions for updating:\nUse keras.layers.MaxPooling2D instead.\n",
      "WARNING:tensorflow:From <ipython-input-6-042ecda63d7a>:36: average_pooling2d (from tensorflow.python.layers.pooling) is deprecated and will be removed in a future version.\nInstructions for updating:\nUse keras.layers.AveragePooling2D instead.\n",
      "WARNING:tensorflow:From <ipython-input-6-042ecda63d7a>:37: flatten (from tensorflow.python.layers.core) is deprecated and will be removed in a future version.\nInstructions for updating:\nUse keras.layers.flatten instead.\n",
      "WARNING:tensorflow:From <ipython-input-6-042ecda63d7a>:39: dense (from tensorflow.python.layers.core) is deprecated and will be removed in a future version.\nInstructions for updating:\nUse keras.layers.Dense instead.\n"
     ],
     "output_type": "stream"
    }
   ],
   "source": [
    "# 输入数据\n",
    "x = tf.placeholder(tf.float32, [None, 3072])\n",
    "# 输出标签\n",
    "y = tf.placeholder(tf.int64, [None])\n",
    "# 将一维数据转为三维数据\n",
    "x_image = tf.reshape(x, [-1, 3, 32, 32])\n",
    "# 将原始图像的维度进行转换，即转置\n",
    "x_image = tf.transpose(x_image, perm = [0, 2, 3, 1])\n",
    "\n",
    "conv0 = tf.layers.conv2d(x_image,\n",
    "                        32,\n",
    "                        (3, 3),\n",
    "                        padding = 'same',\n",
    "                        activation = tf.nn.relu,\n",
    "                        name = \"conv0\")\n",
    "\n",
    "pool0 = tf.layers.max_pooling2d(conv0,\n",
    "                                (2, 2),\n",
    "                                (2, 2),\n",
    "                                name = \"pool0\")\n",
    "\n",
    "inception1_a = inception_block(pool0, [64, 64, 64], \"inception1_a\")\n",
    "inception1_b = inception_block(inception1_a, [64, 64, 64], \"inception1_b\")\n",
    "\n",
    "pool1 = tf.layers.max_pooling2d(inception1_b,\n",
    "                                (2, 2),\n",
    "                                (2, 2),\n",
    "                                name = \"pool1\")\n",
    "inception2_a = inception_block(pool1, [128, 128, 128], \"inception2_a\")\n",
    "inception2_b = inception_block(inception2_a, [128, 128, 128], \"inception2_b\")\n",
    "inception2_c = inception_block(inception2_b, [128, 128, 128], \"inception2_c\")\n",
    "\n",
    "pool2 = tf.layers.average_pooling2d(inception2_c,\n",
    "                                (8, 8),\n",
    "                                (1, 1),\n",
    "                                name = \"pool2\")\n",
    "flatten = tf.layers.flatten(pool2)\n",
    "\n",
    "y_ = tf.layers.dense(flatten, 10)\n",
    "\n",
    "loss = tf.losses.sparse_softmax_cross_entropy(labels = y, logits = y_)\n",
    "# # 进行概率映射\n",
    "# p_y = tf.nn.softmax(y_)\n",
    "# # 使用one_hot编码\n",
    "# y_one_hot = tf.one_hot(y, 10, dtype = tf.float32)\n",
    "# # 计算损失函数\n",
    "# loss = tf.reduce_mean(tf.square(y_one_hot - p_y))\n",
    "# 从计算的结果中，获取最大值的索引作为预测的结果值\n",
    "predict = tf.argmax(y_, 1)\n",
    "# 计算平均正确率\n",
    "correct_predict = tf.equal(predict, y)\n",
    "accuracy = tf.reduce_mean(tf.cast(correct_predict, tf.float64))\n",
    "    \n",
    "with tf.name_scope('train_op'):\n",
    "    train_op = tf.train.AdamOptimizer(1e-3).minimize(loss)"
   ],
   "metadata": {
    "collapsed": false,
    "pycharm": {
     "name": "#%%\n",
     "is_executing": false
    }
   }
  },
  {
   "cell_type": "code",
   "execution_count": null,
   "outputs": [
    {
     "name": "stdout",
     "text": [
      "['../data/cifar-10-batches-py\\\\Data_Batch_1', '../data/cifar-10-batches-py\\\\Data_Batch_2', '../data/cifar-10-batches-py\\\\Data_Batch_3', '../data/cifar-10-batches-py\\\\Data_Batch_4', '../data/cifar-10-batches-py\\\\Data_Batch_5']\n",
      "(50000, 3072) (50000,)\n",
      "Device mapping:\n/job:localhost/replica:0/task:0/device:GPU:0 -> device: 0, name: GeForce GTX 1050 Ti, pci bus id: 0000:01:00.0, compute capability: 6.1\n\n"
     ],
     "output_type": "stream"
    }
   ],
   "source": [
    "initializer =  tf.global_variables_initializer()\n",
    "batch_steps = 10000\n",
    "batch_size = 20\n",
    "test_steps = int(2000 / batch_size)\n",
    "train_filenames = [os.path.join(CIFAR_DIR, \"Data_Batch_%d\" % i) for i in range(1,6)]\n",
    "test_filenames = [os.path.join(CIFAR_DIR, \"Test_Batch\")]\n",
    "print(train_filenames)\n",
    "train_data_reader = CIFAR10_Read(train_filenames, True)\n",
    "def print_log(step,  acc, current_loss_val = None, is_test = False):\n",
    "    if is_test:\n",
    "        print(\"[Test] Step %d, acc: %4.5f.\" %(step, acc))\n",
    "    else:\n",
    "        print(\"[Train] Step %d, loss: %4.5f, acc: %4.5f.\" %(step, current_loss_val, acc))\n",
    "        \n",
    "    \n",
    "with tf.Session(config=tf.ConfigProto(log_device_placement=True)) as sess:\n",
    "# 初始化所有的变量数据\n",
    "    sess.run(initializer)\n",
    "    for one_train_step in range(batch_steps):\n",
    "        one_batch_data, one_batch_labels = train_data_reader.next_batch(batch_size)\n",
    "        loss_val, acc_val, _ = sess.run([loss, accuracy, train_op],\n",
    "                                        feed_dict={\n",
    "                                            x: one_batch_data,\n",
    "                                            y: one_batch_labels\n",
    "                                        })\n",
    "        if (one_train_step + 1) % 500 == 0:\n",
    "            print_log(step = one_train_step+1, acc = acc_val, current_loss_val = loss_val)\n",
    "        if (one_train_step + 1) % 2000 == 0:\n",
    "            test_data = CIFAR10_Read(test_filenames, False)\n",
    "            one_test_mean_acc=[]\n",
    "            one_test_mean_loss =[]\n",
    "            for one_test_step in range(test_steps):\n",
    "                one_test_batch_data, one_test_batch_labels = test_data.next_batch(batch_size)\n",
    "                test_acc_val = sess.run(\n",
    "                    [accuracy],\n",
    "                    feed_dict={\n",
    "                        x: one_test_batch_data,\n",
    "                        y: one_test_batch_labels\n",
    "                    }\n",
    "                )\n",
    "                one_test_mean_acc.append(test_acc_val)\n",
    "            print_log(step = one_train_step + 1, acc = np.mean(one_test_mean_acc), is_test=True)"
   ],
   "metadata": {
    "collapsed": false,
    "pycharm": {
     "name": "#%%\n",
     "is_executing": true
    }
   }
  },
  {
   "cell_type": "code",
   "execution_count": null,
   "outputs": [],
   "source": [],
   "metadata": {
    "collapsed": false,
    "pycharm": {
     "name": "#%%\n"
    }
   }
  }
 ],
 "metadata": {
  "kernelspec": {
   "display_name": "Python 3",
   "language": "python",
   "name": "python3"
  },
  "language_info": {
   "codemirror_mode": {
    "name": "ipython",
    "version": 2
   },
   "file_extension": ".py",
   "mimetype": "text/x-python",
   "name": "python",
   "nbconvert_exporter": "python",
   "pygments_lexer": "ipython2",
   "version": "2.7.6"
  },
  "pycharm": {
   "stem_cell": {
    "cell_type": "raw",
    "source": [],
    "metadata": {
     "collapsed": false
    }
   }
  }
 },
 "nbformat": 4,
 "nbformat_minor": 0
}